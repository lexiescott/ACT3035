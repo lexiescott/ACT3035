{
 "cells": [
  {
   "cell_type": "markdown",
   "metadata": {},
   "source": [
    "Tout d'abord, afin de créer une librairie (bibliothèque), il faut d'abord commencer par écrire la \"fonction\" `libname` suivie du nom de la bibliothèque qui ne peut dépasser 8 caractères. \n",
    "\n",
    "Ensuite, il faut pointer cette librairie vers le répertoire qui contient vos données, soit sous le format `.sas7bdat` ou autre (`.csv`, `.txt`, ...etc)"
   ]
  },
  {
   "cell_type": "markdown",
   "metadata": {},
   "source": [
    "# Lecture de la librarire partagée"
   ]
  },
  {
   "cell_type": "markdown",
   "metadata": {},
   "source": [
    "Pour le premier exemple, nous commençons par la librairie appelée `lib_prof` qui pointe vers le répertoire `\"/home/ec2913580/my_courses/nmeraihi1/data\"` qui est en **lecture seulement**. \n",
    "\n",
    "Il faut noter que le partage de répertoire est une caractéristique de SAS Studio qui permet de partager des documents entre le prof et les étudiants."
   ]
  },
  {
   "cell_type": "markdown",
   "metadata": {},
   "source": [
    "![libname SAS](https://s3.amazonaws.com/noureddine/libname_1.png)"
   ]
  },
  {
   "cell_type": "markdown",
   "metadata": {},
   "source": [
    "On peut voir que la librairie a été créée avec succès\n"
   ]
  },
  {
   "cell_type": "markdown",
   "metadata": {},
   "source": [
    "![libname SAS](https://s3.amazonaws.com/noureddine/libname_2.png)"
   ]
  },
  {
   "cell_type": "markdown",
   "metadata": {},
   "source": [
    "On peut clairement voir qu'il est possible de voir le contenu de tous les fichiers qui se trouve dans cette bibliothèque."
   ]
  },
  {
   "cell_type": "markdown",
   "metadata": {},
   "source": [
    "```SAS\n",
    "\n",
    "proc print data=lib_prof.eq_2 (firstobs = 2 obs = 5) noobs;\n",
    "run;\n",
    "```"
   ]
  },
  {
   "cell_type": "markdown",
   "metadata": {},
   "source": [
    "![libname SAS](https://s3.amazonaws.com/noureddine/libname_3.png)"
   ]
  },
  {
   "cell_type": "markdown",
   "metadata": {},
   "source": [
    "## Copie des tables avec `data`"
   ]
  },
  {
   "cell_type": "markdown",
   "metadata": {},
   "source": [
    "Remarquez qu'il est possible de copier toute une table ou une partie seulement d'une table vers la librairie temporaire `WORK`.\n",
    "\n",
    "Dans l'exemple suivant, nous créons une extraction de la table `eq_2` où l'on s’intéresse aux assurés qui ont les caractéristiques suivant:\n",
    "* sexe -> \"M\"\n",
    "* type_prof -> qui finit avec `eur`\n",
    "* le cout1 > 10000\n",
    "\n",
    "ou l'on garde seulement les quatre variables suivantes: `nbsin type_prof sexe cout1`"
   ]
  },
  {
   "cell_type": "markdown",
   "metadata": {},
   "source": [
    "```SAS\n",
    "\n",
    "data copie_eq2_wrk;\n",
    " \tset lib_prof.eq_2;\n",
    " \twhere type_prof like \"%eur\" and sexe like \"M\";\n",
    " \tkeep nbsin type_prof sexe cout1;\n",
    " \tif cout1>10000;\n",
    " run;\n",
    "\n",
    "```"
   ]
  },
  {
   "cell_type": "markdown",
   "metadata": {},
   "source": [
    "![libname SAS](https://s3.amazonaws.com/noureddine/libname_4.png)"
   ]
  },
  {
   "cell_type": "markdown",
   "metadata": {},
   "source": [
    "Remarquer que lorsqu'on veut faire la même opération dans la librairie `lib_prof`. Nous obtenons un message d'erreur."
   ]
  },
  {
   "cell_type": "markdown",
   "metadata": {},
   "source": [
    "![libname SAS](https://s3.amazonaws.com/noureddine/libname_5.png)"
   ]
  },
  {
   "cell_type": "markdown",
   "metadata": {},
   "source": [
    "# Écriture des donnés"
   ]
  },
  {
   "cell_type": "markdown",
   "metadata": {},
   "source": [
    "Vous avez trois solutions:"
   ]
  },
  {
   "cell_type": "markdown",
   "metadata": {},
   "source": [
    "## Work\n",
    "\n",
    "Vous pouvez faire des lectures à partir de la librairie `lib_prof` et faire des écritures dans la librairie `WORK` comme ce qu'on a fait précédemment:\n",
    "![libname SAS](https://s3.amazonaws.com/noureddine/libname_6.png)"
   ]
  },
  {
   "cell_type": "markdown",
   "metadata": {},
   "source": [
    "## Ecrire dans votre propre lib"
   ]
  },
  {
   "cell_type": "markdown",
   "metadata": {},
   "source": [
    "Vous pouvez également faire des lectures de la librairie `lib_prof` et créer une autre librairie `lib_moi` dans laquelle vous pouvez faire des **lectures ET écritures**.\n",
    "\n",
    "Votre librairie `lib_moi`, doit pointer vers votre répertoire personnel. Dans l'exemple ci-dessous, je l'ai nommé `rep_vide`\n",
    "\n",
    "\n",
    "``` SAS\n",
    "\n",
    "libname lib_prof \"/home/ec2913580/my_courses/nmeraihi1/data\";\n",
    "\n",
    "proc print data=lib_prof.eq_2 (firstobs = 2 obs = 5) noobs;\n",
    "run;\n",
    "\n",
    "libname lib_moi \"/home/ec2913580/my_courses/nmeraihi1/rep_vide\";\n",
    "data lib_moi.copie_eq2_wrk;\n",
    " \tset lib_prof.eq_2;\n",
    " \twhere type_prof like \"%eur\" and sexe like \"M\";\n",
    " \tkeep nbsin type_prof sexe cout1;\n",
    " \tif cout1>10000;\n",
    " run;\n",
    "\n",
    "```"
   ]
  },
  {
   "cell_type": "markdown",
   "metadata": {},
   "source": [
    "![libname SAS](https://s3.amazonaws.com/noureddine/libname_7.png)"
   ]
  },
  {
   "cell_type": "markdown",
   "metadata": {},
   "source": [
    "## Tout importer dans votre répertoire"
   ]
  },
  {
   "cell_type": "markdown",
   "metadata": {},
   "source": [
    "Si vous ne voulez pas vous tromper avec tous les noms de librairie, vous pouvez en créer qu'une seule lib et importer tout le contenu du répertoire du prof vers un répertoire qui vous appartient.\n",
    "\n",
    "Un inconvénient avec cette méthode, est que s'il y'a des mises à jour dans le répertoire du prof, vous n'aurez pas cette mise à jours, il faut importer à nouveau cette librairie pour avoir accès aus ajouts, modifications...etc.\n",
    "\n",
    "Le deuxième inconvénient, est que ça peut être lourd d'importer le contenu du répertoire prof si ce dernier est volumineux."
   ]
  },
  {
   "cell_type": "markdown",
   "metadata": {},
   "source": [
    "Mais d'abord, il faut copier le répertoire"
   ]
  },
  {
   "cell_type": "markdown",
   "metadata": {},
   "source": [
    "![libname SAS](https://s3.amazonaws.com/noureddine/libname_9.png)"
   ]
  },
  {
   "cell_type": "markdown",
   "metadata": {},
   "source": [
    "Ensuite écrire votre code `SAS`"
   ]
  },
  {
   "cell_type": "markdown",
   "metadata": {},
   "source": [
    "![libname SAS](https://s3.amazonaws.com/noureddine/libname_8.png)"
   ]
  },
  {
   "cell_type": "markdown",
   "metadata": {},
   "source": [
    "# Export de fichier "
   ]
  },
  {
   "cell_type": "markdown",
   "metadata": {},
   "source": [
    "Notez qu'il est possible d'exporter un fichier en particulier au avec la procédure `proc export`. Dans l'exemple ci-dessous, j'exporter deux fichiers;\n",
    "\n",
    "* le premier est la table `PMT` de la librairie `libprfM` que j'exporte dans **mon répertoire** `rep_vide` sous le **format `.csv`** avec l'option `dbms=csv`.\n",
    "* le second est un est la table `cars_info` de la librairie `lib_prof` que j'exporte dans **mon répertoire** `rep_vide` sous le **format `.sas7bdat`** avec l'option `dbms=dlm`.\n",
    "\n",
    "Remarque que j'ajoute l'option `replace` dans mes deux procédure afin de remplacer le fichier importé si ce dernier se trouvait déjà dans mon répertoire.\n"
   ]
  },
  {
   "cell_type": "markdown",
   "metadata": {},
   "source": [
    "![libname SAS](https://s3.amazonaws.com/noureddine/libname_10.png)"
   ]
  }
 ],
 "metadata": {
  "kernelspec": {
   "display_name": "Python 3",
   "language": "python",
   "name": "python3"
  },
  "language_info": {
   "codemirror_mode": {
    "name": "ipython",
    "version": 3
   },
   "file_extension": ".py",
   "mimetype": "text/x-python",
   "name": "python",
   "nbconvert_exporter": "python",
   "pygments_lexer": "ipython3",
   "version": "3.6.4"
  },
  "latex_envs": {
   "LaTeX_envs_menu_present": true,
   "autoclose": false,
   "autocomplete": true,
   "bibliofile": "biblio.bib",
   "cite_by": "apalike",
   "current_citInitial": 1,
   "eqLabelWithNumbers": true,
   "eqNumInitial": 1,
   "hotkeys": {
    "equation": "Ctrl-E",
    "itemize": "Ctrl-I"
   },
   "labels_anchors": false,
   "latex_user_defs": false,
   "report_style_numbering": false,
   "user_envs_cfg": false
  },
  "toc": {
   "base_numbering": 1,
   "nav_menu": {},
   "number_sections": true,
   "sideBar": true,
   "skip_h1_title": false,
   "title_cell": "Table of Contents",
   "title_sidebar": "Contents",
   "toc_cell": false,
   "toc_position": {},
   "toc_section_display": true,
   "toc_window_display": true
  }
 },
 "nbformat": 4,
 "nbformat_minor": 2
}
