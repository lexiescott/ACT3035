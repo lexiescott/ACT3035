{
 "cells": [
  {
   "cell_type": "markdown",
   "metadata": {},
   "source": [
    "Soit les donées suivantes que vous pouvez trouver dans le répertoire [my_content/data/ ](https://odamid.oda.sas.com/SASODAControlCenter)"
   ]
  },
  {
   "cell_type": "code",
   "execution_count": 1,
   "metadata": {},
   "outputs": [
    {
     "data": {
      "text/html": [
       "<div>\n",
       "<style scoped>\n",
       "    .dataframe tbody tr th:only-of-type {\n",
       "        vertical-align: middle;\n",
       "    }\n",
       "\n",
       "    .dataframe tbody tr th {\n",
       "        vertical-align: top;\n",
       "    }\n",
       "\n",
       "    .dataframe thead th {\n",
       "        text-align: right;\n",
       "    }\n",
       "</style>\n",
       "<table border=\"1\" class=\"dataframe\">\n",
       "  <thead>\n",
       "    <tr style=\"text-align: right;\">\n",
       "      <th></th>\n",
       "      <th>Exposure</th>\n",
       "      <th>VehValue</th>\n",
       "      <th>VehAge</th>\n",
       "      <th>VehBody</th>\n",
       "      <th>Gender</th>\n",
       "      <th>DrivAge</th>\n",
       "      <th>ClaimOcc</th>\n",
       "      <th>ClaimNb</th>\n",
       "      <th>ClaimAmount</th>\n",
       "    </tr>\n",
       "  </thead>\n",
       "  <tbody>\n",
       "    <tr>\n",
       "      <th>0</th>\n",
       "      <td>0.303901</td>\n",
       "      <td>1.06</td>\n",
       "      <td>old cars</td>\n",
       "      <td>Hatchback</td>\n",
       "      <td>Female</td>\n",
       "      <td>young people</td>\n",
       "      <td>0</td>\n",
       "      <td>0</td>\n",
       "      <td>0.0</td>\n",
       "    </tr>\n",
       "    <tr>\n",
       "      <th>1</th>\n",
       "      <td>0.648871</td>\n",
       "      <td>1.03</td>\n",
       "      <td>young cars</td>\n",
       "      <td>Hatchback</td>\n",
       "      <td>Female</td>\n",
       "      <td>older work. people</td>\n",
       "      <td>0</td>\n",
       "      <td>0</td>\n",
       "      <td>0.0</td>\n",
       "    </tr>\n",
       "    <tr>\n",
       "      <th>2</th>\n",
       "      <td>0.569473</td>\n",
       "      <td>3.26</td>\n",
       "      <td>young cars</td>\n",
       "      <td>Utility</td>\n",
       "      <td>Female</td>\n",
       "      <td>young people</td>\n",
       "      <td>0</td>\n",
       "      <td>0</td>\n",
       "      <td>0.0</td>\n",
       "    </tr>\n",
       "    <tr>\n",
       "      <th>3</th>\n",
       "      <td>0.317591</td>\n",
       "      <td>4.14</td>\n",
       "      <td>young cars</td>\n",
       "      <td>Station wagon</td>\n",
       "      <td>Female</td>\n",
       "      <td>young people</td>\n",
       "      <td>0</td>\n",
       "      <td>0</td>\n",
       "      <td>0.0</td>\n",
       "    </tr>\n",
       "    <tr>\n",
       "      <th>4</th>\n",
       "      <td>0.648871</td>\n",
       "      <td>0.72</td>\n",
       "      <td>oldest cars</td>\n",
       "      <td>Hatchback</td>\n",
       "      <td>Female</td>\n",
       "      <td>young people</td>\n",
       "      <td>0</td>\n",
       "      <td>0</td>\n",
       "      <td>0.0</td>\n",
       "    </tr>\n",
       "  </tbody>\n",
       "</table>\n",
       "</div>"
      ],
      "text/plain": [
       "   Exposure  VehValue       VehAge        VehBody  Gender             DrivAge  \\\n",
       "0  0.303901      1.06     old cars      Hatchback  Female        young people   \n",
       "1  0.648871      1.03   young cars      Hatchback  Female  older work. people   \n",
       "2  0.569473      3.26   young cars        Utility  Female        young people   \n",
       "3  0.317591      4.14   young cars  Station wagon  Female        young people   \n",
       "4  0.648871      0.72  oldest cars      Hatchback  Female        young people   \n",
       "\n",
       "   ClaimOcc  ClaimNb  ClaimAmount  \n",
       "0         0        0          0.0  \n",
       "1         0        0          0.0  \n",
       "2         0        0          0.0  \n",
       "3         0        0          0.0  \n",
       "4         0        0          0.0  "
      ]
     },
     "execution_count": 1,
     "metadata": {},
     "output_type": "execute_result"
    }
   ],
   "source": [
    "# ceci est un code python juste pour vous donner un apperçu des données avec lesquels vous aller travailler\n",
    "# import pandas as pd\n",
    "# df=pd.read_csv(\"~/Downloads/ausprivauto0405.csv\")\n",
    "# df.head()"
   ]
  },
  {
   "cell_type": "markdown",
   "metadata": {},
   "source": [
    "# Numéro 1\n"
   ]
  },
  {
   "cell_type": "markdown",
   "metadata": {},
   "source": [
    "Importer le fichier ausprivauto0405.csv qui se trouve dans my_content/data/ dans une librairie appelée `sqlPrac`.  \n",
    "toutes les questions ci-dessous réfèrent cette table "
   ]
  },
  {
   "cell_type": "markdown",
   "metadata": {
    "toc-hr-collapsed": false
   },
   "source": [
    "# Numéro 2\n",
    "Sélectionnez toutes les variables de cette table vous pouvez afficher que 10 observations afin d'accélérer l'exécution"
   ]
  },
  {
   "cell_type": "markdown",
   "metadata": {},
   "source": [
    "# Numéro 3\n",
    "Sélectionnez seulement les deux variables suivantes;\n",
    "* Exposure \n",
    "* ClaimAmount\n"
   ]
  },
  {
   "cell_type": "markdown",
   "metadata": {},
   "source": [
    "# Numéro 4\n",
    "Sélectionnez seulement les deux variables suivantes\n",
    "* Exposure et ClaimAmount en affichant les noms de variable en français\n",
    "* Exposition et MontantReclamation"
   ]
  },
  {
   "cell_type": "markdown",
   "metadata": {},
   "source": [
    "# Numéro 5\n",
    "Sélectionnez seulement les deux variables suivantes\n",
    "* Exposure et ClaimAmount en affichant les noms de variable en français\n",
    "* Exposition et MontantReclamation\n",
    "___\n",
    "Ajoutez une nouvelle variable MontantReclamationInf qui calcule le  montant des réclamations plus une inflation moyenne de 2% sur 3 ans "
   ]
  },
  {
   "cell_type": "markdown",
   "metadata": {},
   "source": [
    "# Numéro 6\n",
    "Sélectionnez seulement les deux variables suivantes\n",
    "* Exposure et ClaimAmount en affichant les noms de variable en français\n",
    "* Exposition et MontantReclamation\n",
    "* Ajoutez une nouvelle variable MontantReclamationInf qui calcule le  montant des réclamations plus une inflation moyenne de 2% sur 3 ans \n",
    "___\n",
    "* Ajouter une nouvelle variable MontantReclamationInfTx qui applique une taxe de 9% à la variable MontantReclamationInf"
   ]
  },
  {
   "cell_type": "markdown",
   "metadata": {},
   "source": [
    "# Numéro 7\n",
    "Sélectionnez seulement les deux variables suivantes\n",
    "* Exposure et ClaimAmount en affichant les noms de variable en français\n",
    "* Exposition et MontantReclamation\n",
    "* Ajoutez une nouvelle variable MontantReclamationInf qui calcule le  montant des réclamations plus une inflation moyenne de 2% sur 3 ans \n",
    "* Ajouter une nouvelle variable MontantReclamationInfTx qui applique une taxe de 9% à la variable MontantReclamationInf\n",
    "___\n",
    "* Ajoutez la variable VehBody mais seulement les Hatchback"
   ]
  },
  {
   "cell_type": "markdown",
   "metadata": {},
   "source": [
    "# Numéro 8\n",
    "Sélectionnez seulement les deux variables suivantes\n",
    "* Exposure et ClaimAmount en affichant les noms de variable en français\n",
    "* Exposition et MontantReclamation\n",
    "* Ajoutez une nouvelle variable MontantReclamationInf qui calcule le  montant des réclamations plus une inflation moyenne de 2% sur 3 ans \n",
    "* Ajouter une nouvelle variable MontantReclamationInfTx qui applique une taxe de 9% à la variable MontantReclamationInf\n",
    "* Ajoutez la variable VehBody mais seulement les Hatchback\n",
    "___\n",
    "* Ajouter la variable DrivAge où les assurés sont \"..old..\""
   ]
  },
  {
   "cell_type": "markdown",
   "metadata": {},
   "source": [
    "# Numéro 9\n",
    "Sélectionnez seulement les deux variables suivantes\n",
    "* Exposure et ClaimAmount en affichant les noms de variable en français\n",
    "* Exposition et MontantReclamation\n",
    "* Ajoutez une nouvelle variable MontantReclamationInf qui calcule le  montant des réclamations plus une inflation moyenne de 2% sur 3 ans \n",
    "* Ajouter une nouvelle variable MontantReclamationInfTx qui applique une taxe de 9% à la variable MontantReclamationInf\n",
    "* Ajoutez la variable VehBody mais seulement les Hatchback\n",
    "* Ajouter la variable DrivAge où les assurés sont \"..old..\"\n",
    "___\n",
    "* Avec la procédure proc univariate, le 25e et le 75e percentile, sélectionner les VehValue qui se situent entre le 25 et le 75 percentiles."
   ]
  },
  {
   "cell_type": "markdown",
   "metadata": {},
   "source": [
    "# Numéro 10\n",
    "Sélectionnez seulement les deux variables suivantes\n",
    "* Exposure et ClaimAmount en affichant les noms de variable en français\n",
    "* Exposition et MontantReclamation\n",
    "* Ajoutez une nouvelle variable MontantReclamationInf qui calcule le  montant des réclamations plus une inflation moyenne de 2% sur 3 ans \n",
    "* Ajouter une nouvelle variable MontantReclamationInfTx qui applique une taxe de 9% à la variable MontantReclamationInf\n",
    "* Ajoutez la variable VehBody mais seulement les Hatchback\n",
    "* Ajouter la variable DrivAge où les assurés sont \"..old..\"\n",
    "* Avec la procédure proc univariate, le 25e et le 75e percentile, sélectionner les VehValue qui se situent entre le 25 et le 75 percentiles.\n",
    "___\n",
    "* à partir de cette table maintenant, sélectionnez seulement: \n",
    "    * l'exposition, \n",
    "    * le montant de réclamation plus inflation (format $)  \n",
    "    * et taxe groupe par DrivAge"
   ]
  }
 ],
 "metadata": {
  "kernelspec": {
   "display_name": "Python 3",
   "language": "python",
   "name": "python3"
  },
  "language_info": {
   "codemirror_mode": {
    "name": "ipython",
    "version": 3
   },
   "file_extension": ".py",
   "mimetype": "text/x-python",
   "name": "python",
   "nbconvert_exporter": "python",
   "pygments_lexer": "ipython3",
   "version": "3.6.5"
  },
  "toc": {
   "base_numbering": 1,
   "nav_menu": {},
   "number_sections": true,
   "sideBar": true,
   "skip_h1_title": false,
   "title_cell": "Table of Contents",
   "title_sidebar": "Contents",
   "toc_cell": false,
   "toc_position": {},
   "toc_section_display": true,
   "toc_window_display": false
  },
  "toc-autonumbering": false,
  "toc-showcode": false,
  "toc-showmarkdowntxt": false,
  "toc-showtags": false
 },
 "nbformat": 4,
 "nbformat_minor": 2
}
