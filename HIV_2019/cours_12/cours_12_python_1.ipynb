{
 "cells": [
  {
   "cell_type": "markdown",
   "metadata": {},
   "source": [
    "# Introduction"
   ]
  },
  {
   "cell_type": "markdown",
   "metadata": {},
   "source": [
    "Comme dans `R`, `Python` est une calculatrice. Plus de détails [ici](http://nour.me/)"
   ]
  },
  {
   "cell_type": "code",
   "execution_count": 3,
   "metadata": {},
   "outputs": [
    {
     "data": {
      "text/plain": [
       "0.6"
      ]
     },
     "execution_count": 3,
     "metadata": {},
     "output_type": "execute_result"
    }
   ],
   "source": [
    "3/5"
   ]
  },
  {
   "cell_type": "markdown",
   "metadata": {},
   "source": [
    "exposant: **"
   ]
  },
  {
   "cell_type": "code",
   "execution_count": 4,
   "metadata": {},
   "outputs": [
    {
     "data": {
      "text/plain": [
       "1024"
      ]
     },
     "execution_count": 4,
     "metadata": {},
     "output_type": "execute_result"
    }
   ],
   "source": [
    "4**5"
   ]
  },
  {
   "cell_type": "markdown",
   "metadata": {},
   "source": [
    "Utiliser des fonction math avec la biblio `math`"
   ]
  },
  {
   "cell_type": "code",
   "execution_count": 6,
   "metadata": {
    "collapsed": true
   },
   "outputs": [],
   "source": [
    "import math"
   ]
  },
  {
   "cell_type": "code",
   "execution_count": 8,
   "metadata": {},
   "outputs": [
    {
     "data": {
      "text/plain": [
       "4.0"
      ]
     },
     "execution_count": 8,
     "metadata": {},
     "output_type": "execute_result"
    }
   ],
   "source": [
    "math.sqrt(16)"
   ]
  },
  {
   "cell_type": "code",
   "execution_count": 9,
   "metadata": {
    "collapsed": true
   },
   "outputs": [],
   "source": [
    "from math import sqrt"
   ]
  },
  {
   "cell_type": "code",
   "execution_count": 10,
   "metadata": {},
   "outputs": [
    {
     "data": {
      "text/plain": [
       "6.0"
      ]
     },
     "execution_count": 10,
     "metadata": {},
     "output_type": "execute_result"
    }
   ],
   "source": [
    "sqrt(36)"
   ]
  },
  {
   "cell_type": "code",
   "execution_count": 11,
   "metadata": {
    "collapsed": true
   },
   "outputs": [],
   "source": [
    "A_plus=90"
   ]
  },
  {
   "cell_type": "code",
   "execution_count": 12,
   "metadata": {},
   "outputs": [
    {
     "data": {
      "text/plain": [
       "90"
      ]
     },
     "execution_count": 12,
     "metadata": {},
     "output_type": "execute_result"
    }
   ],
   "source": [
    "A_plus"
   ]
  },
  {
   "cell_type": "code",
   "execution_count": 13,
   "metadata": {},
   "outputs": [
    {
     "name": "stdout",
     "output_type": "stream",
     "text": [
      "90\n"
     ]
    }
   ],
   "source": [
    "#ceci est un commentaire\n",
    "print(A_plus)"
   ]
  },
  {
   "cell_type": "code",
   "execution_count": 15,
   "metadata": {},
   "outputs": [],
   "source": [
    "bonus=5"
   ]
  },
  {
   "cell_type": "code",
   "execution_count": 16,
   "metadata": {},
   "outputs": [
    {
     "data": {
      "text/plain": [
       "95"
      ]
     },
     "execution_count": 16,
     "metadata": {},
     "output_type": "execute_result"
    }
   ],
   "source": [
    "bonus+A_plus"
   ]
  },
  {
   "cell_type": "code",
   "execution_count": 17,
   "metadata": {},
   "outputs": [
    {
     "name": "stdout",
     "output_type": "stream",
     "text": [
      "Bonjour\n"
     ]
    }
   ],
   "source": [
    "print(\"Bonjour\")"
   ]
  },
  {
   "cell_type": "code",
   "execution_count": 21,
   "metadata": {},
   "outputs": [
    {
     "name": "stdout",
     "output_type": "stream",
     "text": [
      "Bonjour\n",
      "Madame\n"
     ]
    }
   ],
   "source": [
    "print(\"Bonjour\"+ \n",
    "      \"\\nMadame\")"
   ]
  },
  {
   "cell_type": "code",
   "execution_count": null,
   "metadata": {
    "collapsed": true
   },
   "outputs": [],
   "source": []
  },
  {
   "cell_type": "markdown",
   "metadata": {},
   "source": [
    "[lien](nour.me)"
   ]
  },
  {
   "cell_type": "markdown",
   "metadata": {},
   "source": [
    "![image](data:image/jpeg;base64,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)"
   ]
  },
  {
   "cell_type": "markdown",
   "metadata": {},
   "source": [
    "![](data:image/jpeg;base64,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)"
   ]
  },
  {
   "cell_type": "code",
   "execution_count": 22,
   "metadata": {
    "collapsed": true
   },
   "outputs": [],
   "source": [
    "villes=[\"Montréal\", \"Laval\", \"Québec\"]"
   ]
  },
  {
   "cell_type": "code",
   "execution_count": 23,
   "metadata": {},
   "outputs": [
    {
     "data": {
      "text/plain": [
       "['Montréal', 'Laval', 'Québec']"
      ]
     },
     "execution_count": 23,
     "metadata": {},
     "output_type": "execute_result"
    }
   ],
   "source": [
    "villes"
   ]
  },
  {
   "cell_type": "code",
   "execution_count": 24,
   "metadata": {},
   "outputs": [
    {
     "data": {
      "text/plain": [
       "'Laval'"
      ]
     },
     "execution_count": 24,
     "metadata": {},
     "output_type": "execute_result"
    }
   ],
   "source": [
    "villes[1]"
   ]
  },
  {
   "cell_type": "code",
   "execution_count": 29,
   "metadata": {},
   "outputs": [
    {
     "data": {
      "text/plain": [
       "[0, 1, 2, 3, 4, 5, 6, 7, 8, 9, 10, 11, 12]"
      ]
     },
     "execution_count": 29,
     "metadata": {},
     "output_type": "execute_result"
    }
   ],
   "source": [
    "list(range(13))"
   ]
  },
  {
   "cell_type": "code",
   "execution_count": 33,
   "metadata": {},
   "outputs": [
    {
     "data": {
      "text/plain": [
       "[1, 2, 3, 4, 5, 6, 7, 8, 9, 10, 11, 12, 13]"
      ]
     },
     "execution_count": 33,
     "metadata": {},
     "output_type": "execute_result"
    }
   ],
   "source": [
    "ceci=list(range(1,14))\n",
    "ceci"
   ]
  },
  {
   "cell_type": "code",
   "execution_count": 31,
   "metadata": {
    "collapsed": true
   },
   "outputs": [],
   "source": [
    "nquoi=[\"Bonjour\", 1000, \"fois\"]"
   ]
  },
  {
   "cell_type": "code",
   "execution_count": 32,
   "metadata": {},
   "outputs": [
    {
     "data": {
      "text/plain": [
       "['Bonjour', 1000, 'fois']"
      ]
     },
     "execution_count": 32,
     "metadata": {},
     "output_type": "execute_result"
    }
   ],
   "source": [
    "nquoi"
   ]
  },
  {
   "cell_type": "code",
   "execution_count": 34,
   "metadata": {},
   "outputs": [
    {
     "data": {
      "text/plain": [
       "13"
      ]
     },
     "execution_count": 34,
     "metadata": {},
     "output_type": "execute_result"
    }
   ],
   "source": [
    "len(ceci)"
   ]
  },
  {
   "cell_type": "code",
   "execution_count": 35,
   "metadata": {},
   "outputs": [
    {
     "name": "stdout",
     "output_type": "stream",
     "text": [
      "['Montréal', 'Laval', 'Québec']\n"
     ]
    }
   ],
   "source": [
    "print(villes)"
   ]
  },
  {
   "cell_type": "code",
   "execution_count": 36,
   "metadata": {},
   "outputs": [
    {
     "name": "stdout",
     "output_type": "stream",
     "text": [
      "Montréal\n",
      "Laval\n",
      "Québec\n"
     ]
    }
   ],
   "source": [
    "for i in villes:\n",
    "    print(i)"
   ]
  },
  {
   "cell_type": "code",
   "execution_count": 37,
   "metadata": {},
   "outputs": [
    {
     "name": "stdout",
     "output_type": "stream",
     "text": [
      "J'habite Montréal\n",
      "J'habite Laval\n",
      "J'habite Québec\n"
     ]
    }
   ],
   "source": [
    "for i in villes:\n",
    "    print(\"J'habite \"+i)"
   ]
  },
  {
   "cell_type": "code",
   "execution_count": 40,
   "metadata": {},
   "outputs": [
    {
     "name": "stdout",
     "output_type": "stream",
     "text": [
      "J'habite Montréal\n",
      "J'habite Laval\n",
      "J'habite Québec\n"
     ]
    }
   ],
   "source": [
    "for ville in villes:\n",
    "    print(\"J'habite \"+ville)"
   ]
  },
  {
   "cell_type": "code",
   "execution_count": 51,
   "metadata": {},
   "outputs": [
    {
     "name": "stdout",
     "output_type": "stream",
     "text": [
      "3 divisé par  13 egale a  0.23076923076923078\n",
      "4 divisé par  13 egale a  0.3076923076923077\n",
      "5 divisé par  13 egale a  0.38461538461538464\n",
      "6 divisé par  13 egale a  0.46153846153846156\n"
     ]
    }
   ],
   "source": [
    "for i in range(3,7):\n",
    "    print(i, \"divisé par \", 13, \"egale a \",i/13)"
   ]
  },
  {
   "cell_type": "code",
   "execution_count": 54,
   "metadata": {},
   "outputs": [
    {
     "data": {
      "text/plain": [
       "['Montréal', 'Laval', 'Québec']"
      ]
     },
     "execution_count": 54,
     "metadata": {},
     "output_type": "execute_result"
    }
   ],
   "source": [
    "villes"
   ]
  },
  {
   "cell_type": "code",
   "execution_count": 56,
   "metadata": {},
   "outputs": [
    {
     "data": {
      "text/plain": [
       "['Montréal', 'Laval']"
      ]
     },
     "execution_count": 56,
     "metadata": {},
     "output_type": "execute_result"
    }
   ],
   "source": [
    "villes[0:2]"
   ]
  },
  {
   "cell_type": "code",
   "execution_count": 57,
   "metadata": {},
   "outputs": [
    {
     "name": "stdout",
     "output_type": "stream",
     "text": [
      "Montréal\n",
      "Laval\n"
     ]
    }
   ],
   "source": [
    "for ville in villes[0:2]:\n",
    "    print(ville)\n",
    "    "
   ]
  },
  {
   "cell_type": "code",
   "execution_count": 58,
   "metadata": {},
   "outputs": [
    {
     "data": {
      "text/plain": [
       "False"
      ]
     },
     "execution_count": 58,
     "metadata": {},
     "output_type": "execute_result"
    }
   ],
   "source": [
    "1==2"
   ]
  },
  {
   "cell_type": "code",
   "execution_count": 59,
   "metadata": {},
   "outputs": [
    {
     "data": {
      "text/plain": [
       "True"
      ]
     },
     "execution_count": 59,
     "metadata": {},
     "output_type": "execute_result"
    }
   ],
   "source": [
    "1!=2"
   ]
  },
  {
   "cell_type": "code",
   "execution_count": 60,
   "metadata": {},
   "outputs": [
    {
     "data": {
      "text/plain": [
       "True"
      ]
     },
     "execution_count": 60,
     "metadata": {},
     "output_type": "execute_result"
    }
   ],
   "source": [
    "2>1"
   ]
  },
  {
   "cell_type": "code",
   "execution_count": 61,
   "metadata": {},
   "outputs": [
    {
     "data": {
      "text/plain": [
       "False"
      ]
     },
     "execution_count": 61,
     "metadata": {},
     "output_type": "execute_result"
    }
   ],
   "source": [
    "[1,2,3]==[1,3,3]"
   ]
  },
  {
   "cell_type": "code",
   "execution_count": 62,
   "metadata": {
    "collapsed": true
   },
   "outputs": [],
   "source": [
    "monDiction={\"marie\":22, \"Colette\":66}"
   ]
  },
  {
   "cell_type": "code",
   "execution_count": 63,
   "metadata": {},
   "outputs": [
    {
     "data": {
      "text/plain": [
       "22"
      ]
     },
     "execution_count": 63,
     "metadata": {},
     "output_type": "execute_result"
    }
   ],
   "source": [
    "monDiction[\"marie\"]"
   ]
  },
  {
   "cell_type": "code",
   "execution_count": 64,
   "metadata": {},
   "outputs": [
    {
     "data": {
      "text/plain": [
       "2"
      ]
     },
     "execution_count": 64,
     "metadata": {},
     "output_type": "execute_result"
    }
   ],
   "source": [
    "len(monDiction)"
   ]
  },
  {
   "cell_type": "code",
   "execution_count": 66,
   "metadata": {
    "collapsed": true
   },
   "outputs": [],
   "source": [
    "def adiotionner(x,y):\n",
    "    \"\"\"Cette fonction adition deux élem\"\"\"\n",
    "    reponse=x+y\n",
    "    return reponse"
   ]
  },
  {
   "cell_type": "code",
   "execution_count": 67,
   "metadata": {},
   "outputs": [
    {
     "data": {
      "text/plain": [
       "24"
      ]
     },
     "execution_count": 67,
     "metadata": {},
     "output_type": "execute_result"
    }
   ],
   "source": [
    "adiotionner(x=5, y=19)"
   ]
  },
  {
   "cell_type": "markdown",
   "metadata": {},
   "source": [
    "# Vecteur dans Python"
   ]
  },
  {
   "cell_type": "code",
   "execution_count": 69,
   "metadata": {},
   "outputs": [],
   "source": [
    "import numpy as np"
   ]
  },
  {
   "cell_type": "code",
   "execution_count": 71,
   "metadata": {},
   "outputs": [],
   "source": [
    "maliste=[1,2,3,4,5,6]"
   ]
  },
  {
   "cell_type": "code",
   "execution_count": 73,
   "metadata": {},
   "outputs": [],
   "source": [
    "maliste_vec=np.array(maliste)"
   ]
  },
  {
   "cell_type": "code",
   "execution_count": 74,
   "metadata": {},
   "outputs": [
    {
     "data": {
      "text/plain": [
       "array([ 0.33333333,  0.66666667,  1.        ,  1.33333333,  1.66666667,  2.        ])"
      ]
     },
     "execution_count": 74,
     "metadata": {},
     "output_type": "execute_result"
    }
   ],
   "source": [
    "maliste_vec/3"
   ]
  },
  {
   "cell_type": "code",
   "execution_count": 76,
   "metadata": {},
   "outputs": [],
   "source": [
    "monvec_2=np.array(range(3))"
   ]
  },
  {
   "cell_type": "code",
   "execution_count": 78,
   "metadata": {},
   "outputs": [],
   "source": [
    "liste_de_vec=[maliste_vec, monvec_2]"
   ]
  },
  {
   "cell_type": "code",
   "execution_count": 80,
   "metadata": {},
   "outputs": [],
   "source": [
    "vec_de_vec=np.array(liste_de_vec)"
   ]
  },
  {
   "cell_type": "code",
   "execution_count": 83,
   "metadata": {},
   "outputs": [
    {
     "data": {
      "text/plain": [
       "array([ 0.,  0.,  0.,  0.,  0.])"
      ]
     },
     "execution_count": 83,
     "metadata": {},
     "output_type": "execute_result"
    }
   ],
   "source": [
    "np.zeros(5)"
   ]
  },
  {
   "cell_type": "code",
   "execution_count": 84,
   "metadata": {},
   "outputs": [
    {
     "data": {
      "text/plain": [
       "array([ 1.,  1.,  1.,  1.,  1.])"
      ]
     },
     "execution_count": 84,
     "metadata": {},
     "output_type": "execute_result"
    }
   ],
   "source": [
    "np.ones(5)"
   ]
  },
  {
   "cell_type": "code",
   "execution_count": 85,
   "metadata": {},
   "outputs": [
    {
     "data": {
      "text/plain": [
       "array([ 0.,  0.,  0.,  0.,  0.])"
      ]
     },
     "execution_count": 85,
     "metadata": {},
     "output_type": "execute_result"
    }
   ],
   "source": [
    "np.empty(5)"
   ]
  },
  {
   "cell_type": "code",
   "execution_count": 91,
   "metadata": {},
   "outputs": [
    {
     "data": {
      "text/plain": [
       "array([[ 1.,  0.,  0.,  0.,  0.],\n",
       "       [ 0.,  1.,  0.,  0.,  0.],\n",
       "       [ 0.,  0.,  1.,  0.,  0.],\n",
       "       [ 0.,  0.,  0.,  1.,  0.],\n",
       "       [ 0.,  0.,  0.,  0.,  1.]])"
      ]
     },
     "execution_count": 91,
     "metadata": {},
     "output_type": "execute_result"
    }
   ],
   "source": [
    "matrice_id=np.eye(5)\n",
    "matrice_id"
   ]
  },
  {
   "cell_type": "code",
   "execution_count": 92,
   "metadata": {},
   "outputs": [
    {
     "data": {
      "text/plain": [
       "array([ 1.,  1.,  1.,  1.,  1.])"
      ]
     },
     "execution_count": 92,
     "metadata": {},
     "output_type": "execute_result"
    }
   ],
   "source": [
    "np.diag(matrice_id)"
   ]
  },
  {
   "cell_type": "code",
   "execution_count": 94,
   "metadata": {},
   "outputs": [
    {
     "data": {
      "text/plain": [
       "[0, 1, 2, 3, 4, 5, 6, 7, 8, 9, 10, 11, 12]"
      ]
     },
     "execution_count": 94,
     "metadata": {},
     "output_type": "execute_result"
    }
   ],
   "source": [
    "list(range(13))"
   ]
  },
  {
   "cell_type": "code",
   "execution_count": 95,
   "metadata": {},
   "outputs": [
    {
     "data": {
      "text/plain": [
       "array([ 0,  1,  2,  3,  4,  5,  6,  7,  8,  9, 10, 11, 12])"
      ]
     },
     "execution_count": 95,
     "metadata": {},
     "output_type": "execute_result"
    }
   ],
   "source": [
    "np.arange(13)"
   ]
  },
  {
   "cell_type": "code",
   "execution_count": 96,
   "metadata": {},
   "outputs": [
    {
     "data": {
      "text/plain": [
       "array([ 5, 15, 25, 35, 45])"
      ]
     },
     "execution_count": 96,
     "metadata": {},
     "output_type": "execute_result"
    }
   ],
   "source": [
    "np.arange(5,55,10)"
   ]
  },
  {
   "cell_type": "code",
   "execution_count": 99,
   "metadata": {
    "collapsed": true
   },
   "outputs": [],
   "source": [
    "vecteur=np.arange(1,18)"
   ]
  },
  {
   "cell_type": "code",
   "execution_count": 100,
   "metadata": {},
   "outputs": [
    {
     "data": {
      "text/plain": [
       "array([ 1,  2,  3,  4,  5,  6,  7,  8,  9, 10, 11, 12, 13, 14, 15, 16, 17])"
      ]
     },
     "execution_count": 100,
     "metadata": {},
     "output_type": "execute_result"
    }
   ],
   "source": [
    "vecteur"
   ]
  },
  {
   "cell_type": "markdown",
   "metadata": {},
   "source": [
    "Si je veux mon 8eme element, je dois l'inclure donc 7"
   ]
  },
  {
   "cell_type": "code",
   "execution_count": 104,
   "metadata": {},
   "outputs": [
    {
     "data": {
      "text/plain": [
       "8"
      ]
     },
     "execution_count": 104,
     "metadata": {},
     "output_type": "execute_result"
    }
   ],
   "source": [
    "vecteur[7]"
   ]
  },
  {
   "cell_type": "code",
   "execution_count": 105,
   "metadata": {},
   "outputs": [
    {
     "data": {
      "text/plain": [
       "array([ 9, 10, 11])"
      ]
     },
     "execution_count": 105,
     "metadata": {},
     "output_type": "execute_result"
    }
   ],
   "source": [
    "vecteur[8:11]"
   ]
  },
  {
   "cell_type": "code",
   "execution_count": 106,
   "metadata": {
    "collapsed": true
   },
   "outputs": [],
   "source": [
    "vecteur[8]=88888"
   ]
  },
  {
   "cell_type": "code",
   "execution_count": 107,
   "metadata": {},
   "outputs": [
    {
     "data": {
      "text/plain": [
       "array([    1,     2,     3,     4,     5,     6,     7,     8, 88888,\n",
       "          10,    11,    12,    13,    14,    15,    16,    17])"
      ]
     },
     "execution_count": 107,
     "metadata": {},
     "output_type": "execute_result"
    }
   ],
   "source": [
    "vecteur"
   ]
  },
  {
   "cell_type": "code",
   "execution_count": 120,
   "metadata": {},
   "outputs": [],
   "source": [
    "vecteur_2d=np.zeros((12,10))\n",
    "# vecteur_2d"
   ]
  },
  {
   "cell_type": "code",
   "execution_count": 116,
   "metadata": {},
   "outputs": [
    {
     "data": {
      "text/plain": [
       "(12, 10)"
      ]
     },
     "execution_count": 116,
     "metadata": {},
     "output_type": "execute_result"
    }
   ],
   "source": [
    "vecteur_2d.shape"
   ]
  },
  {
   "cell_type": "markdown",
   "metadata": {},
   "source": [
    "si je veux le nb de lignes"
   ]
  },
  {
   "cell_type": "code",
   "execution_count": 118,
   "metadata": {},
   "outputs": [
    {
     "data": {
      "text/plain": [
       "12"
      ]
     },
     "execution_count": 118,
     "metadata": {},
     "output_type": "execute_result"
    }
   ],
   "source": [
    "vecteur_2d.shape[0]"
   ]
  },
  {
   "cell_type": "code",
   "execution_count": 126,
   "metadata": {},
   "outputs": [
    {
     "data": {
      "text/plain": [
       "array([ 0.,  0.,  0.,  0.,  0.,  0.,  0.,  0.,  0.,  0.])"
      ]
     },
     "execution_count": 126,
     "metadata": {},
     "output_type": "execute_result"
    }
   ],
   "source": []
  },
  {
   "cell_type": "code",
   "execution_count": 127,
   "metadata": {},
   "outputs": [],
   "source": [
    "for i in range(vecteur_2d.shape[0]):\n",
    "    vecteur_2d[i]=i+1"
   ]
  },
  {
   "cell_type": "code",
   "execution_count": 128,
   "metadata": {},
   "outputs": [
    {
     "data": {
      "text/plain": [
       "array([[  1.,   1.,   1.,   1.,   1.,   1.,   1.,   1.,   1.,   1.],\n",
       "       [  2.,   2.,   2.,   2.,   2.,   2.,   2.,   2.,   2.,   2.],\n",
       "       [  3.,   3.,   3.,   3.,   3.,   3.,   3.,   3.,   3.,   3.],\n",
       "       [  4.,   4.,   4.,   4.,   4.,   4.,   4.,   4.,   4.,   4.],\n",
       "       [  5.,   5.,   5.,   5.,   5.,   5.,   5.,   5.,   5.,   5.],\n",
       "       [  6.,   6.,   6.,   6.,   6.,   6.,   6.,   6.,   6.,   6.],\n",
       "       [  7.,   7.,   7.,   7.,   7.,   7.,   7.,   7.,   7.,   7.],\n",
       "       [  8.,   8.,   8.,   8.,   8.,   8.,   8.,   8.,   8.,   8.],\n",
       "       [  9.,   9.,   9.,   9.,   9.,   9.,   9.,   9.,   9.,   9.],\n",
       "       [ 10.,  10.,  10.,  10.,  10.,  10.,  10.,  10.,  10.,  10.],\n",
       "       [ 11.,  11.,  11.,  11.,  11.,  11.,  11.,  11.,  11.,  11.],\n",
       "       [ 12.,  12.,  12.,  12.,  12.,  12.,  12.,  12.,  12.,  12.]])"
      ]
     },
     "execution_count": 128,
     "metadata": {},
     "output_type": "execute_result"
    }
   ],
   "source": [
    "vecteur_2d"
   ]
  },
  {
   "cell_type": "code",
   "execution_count": 131,
   "metadata": {},
   "outputs": [
    {
     "data": {
      "text/plain": [
       "1.0"
      ]
     },
     "execution_count": 131,
     "metadata": {},
     "output_type": "execute_result"
    }
   ],
   "source": [
    "vecteur_2d[0][0]"
   ]
  },
  {
   "cell_type": "code",
   "execution_count": 133,
   "metadata": {},
   "outputs": [
    {
     "data": {
      "text/plain": [
       "array([ 0,  1,  2,  3,  4,  5,  6,  7,  8,  9, 10, 11, 12, 13, 14, 15, 16,\n",
       "       17, 18, 19, 20, 21, 22, 23, 24, 25, 26, 27, 28, 29, 30, 31, 32, 33,\n",
       "       34, 35, 36, 37, 38, 39, 40, 41, 42, 43, 44, 45, 46, 47, 48, 49])"
      ]
     },
     "execution_count": 133,
     "metadata": {},
     "output_type": "execute_result"
    }
   ],
   "source": [
    "np.arange(50)"
   ]
  },
  {
   "cell_type": "code",
   "execution_count": 134,
   "metadata": {},
   "outputs": [
    {
     "data": {
      "text/plain": [
       "array([[ 0,  1,  2,  3,  4],\n",
       "       [ 5,  6,  7,  8,  9],\n",
       "       [10, 11, 12, 13, 14],\n",
       "       [15, 16, 17, 18, 19],\n",
       "       [20, 21, 22, 23, 24],\n",
       "       [25, 26, 27, 28, 29],\n",
       "       [30, 31, 32, 33, 34],\n",
       "       [35, 36, 37, 38, 39],\n",
       "       [40, 41, 42, 43, 44],\n",
       "       [45, 46, 47, 48, 49]])"
      ]
     },
     "execution_count": 134,
     "metadata": {},
     "output_type": "execute_result"
    }
   ],
   "source": [
    "np.arange(50).reshape(10,5)"
   ]
  },
  {
   "cell_type": "code",
   "execution_count": 135,
   "metadata": {},
   "outputs": [
    {
     "data": {
      "text/plain": [
       "array([[ 0,  5, 10, 15, 20, 25, 30, 35, 40, 45],\n",
       "       [ 1,  6, 11, 16, 21, 26, 31, 36, 41, 46],\n",
       "       [ 2,  7, 12, 17, 22, 27, 32, 37, 42, 47],\n",
       "       [ 3,  8, 13, 18, 23, 28, 33, 38, 43, 48],\n",
       "       [ 4,  9, 14, 19, 24, 29, 34, 39, 44, 49]])"
      ]
     },
     "execution_count": 135,
     "metadata": {},
     "output_type": "execute_result"
    }
   ],
   "source": [
    "np.arange(50).reshape(10,5).T"
   ]
  },
  {
   "cell_type": "code",
   "execution_count": 143,
   "metadata": {},
   "outputs": [
    {
     "data": {
      "text/plain": [
       "array([-1.0856306 ,  0.99734545,  0.2829785 , -1.50629471, -0.57860025,\n",
       "        1.65143654, -2.42667924, -0.42891263,  1.26593626, -0.8667404 ])"
      ]
     },
     "execution_count": 143,
     "metadata": {},
     "output_type": "execute_result"
    }
   ],
   "source": [
    "A=np.random.randn(10)\n",
    "A"
   ]
  },
  {
   "cell_type": "code",
   "execution_count": 147,
   "metadata": {},
   "outputs": [
    {
     "data": {
      "text/plain": [
       "array([-1.0856306 ,  0.99734545,  0.2829785 , -1.50629471, -0.57860025,\n",
       "        1.65143654, -2.42667924, -0.42891263,  1.26593626, -0.8667404 ])"
      ]
     },
     "execution_count": 147,
     "metadata": {},
     "output_type": "execute_result"
    }
   ],
   "source": [
    "seed=123\n",
    "np.random.seed(seed)\n",
    "B=np.random.randn(10)\n",
    "B"
   ]
  },
  {
   "cell_type": "code",
   "execution_count": 140,
   "metadata": {},
   "outputs": [
    {
     "data": {
      "text/plain": [
       "array([ 0.62670414,  1.88369206,  2.01654649,  1.19172531, -1.95282189,\n",
       "        0.41895111,  0.73898517,  0.85169077, -1.07775898,  0.45188829])"
      ]
     },
     "execution_count": 140,
     "metadata": {},
     "output_type": "execute_result"
    }
   ],
   "source": [
    "np.maximum(A, B)"
   ]
  },
  {
   "cell_type": "markdown",
   "metadata": {},
   "source": [
    "Vous pouvez voir le [lien suivant](https://docs.scipy.org/doc/numpy-1.13.0/reference/routines.math.html) pour toutes les fonctions de Numpy"
   ]
  },
  {
   "cell_type": "code",
   "execution_count": 149,
   "metadata": {},
   "outputs": [
    {
     "data": {
      "text/plain": [
       "array([ 0.0596779 ,  0.39804426,  0.73799541,  0.18249173,  0.17545176,\n",
       "        0.53155137,  0.53182759,  0.63440096,  0.84943179,  0.72445532,\n",
       "        0.61102351,  0.72244338,  0.32295891,  0.36178866,  0.22826323,\n",
       "        0.29371405,  0.63097612,  0.09210494,  0.43370117,  0.43086276,\n",
       "        0.4936851 ,  0.42583029,  0.31226122,  0.42635131,  0.89338916])"
      ]
     },
     "execution_count": 149,
     "metadata": {},
     "output_type": "execute_result"
    }
   ],
   "source": [
    "np.random.uniform(0,1,size=25)"
   ]
  },
  {
   "cell_type": "code",
   "execution_count": 151,
   "metadata": {},
   "outputs": [],
   "source": [
    "X=[\"test\", \"Train\", \"test\", \"Validate\"]"
   ]
  },
  {
   "cell_type": "code",
   "execution_count": 152,
   "metadata": {},
   "outputs": [
    {
     "data": {
      "text/plain": [
       "array(['Train', 'Validate', 'test'], \n",
       "      dtype='<U8')"
      ]
     },
     "execution_count": 152,
     "metadata": {},
     "output_type": "execute_result"
    }
   ],
   "source": [
    "np.unique(X)"
   ]
  },
  {
   "cell_type": "markdown",
   "metadata": {},
   "source": [
    "# Pandas"
   ]
  },
  {
   "cell_type": "code",
   "execution_count": 153,
   "metadata": {
    "collapsed": true
   },
   "outputs": [],
   "source": [
    "import pandas as pd"
   ]
  },
  {
   "cell_type": "code",
   "execution_count": 154,
   "metadata": {
    "collapsed": true
   },
   "outputs": [],
   "source": [
    "mesDonnCop=pd.read_clipboard()"
   ]
  },
  {
   "cell_type": "code",
   "execution_count": 155,
   "metadata": {},
   "outputs": [
    {
     "data": {
      "text/html": [
       "<div>\n",
       "<style>\n",
       "    .dataframe thead tr:only-child th {\n",
       "        text-align: right;\n",
       "    }\n",
       "\n",
       "    .dataframe thead th {\n",
       "        text-align: left;\n",
       "    }\n",
       "\n",
       "    .dataframe tbody tr th {\n",
       "        vertical-align: top;\n",
       "    }\n",
       "</style>\n",
       "<table border=\"1\" class=\"dataframe\">\n",
       "  <thead>\n",
       "    <tr style=\"text-align: right;\">\n",
       "      <th></th>\n",
       "      <th>Date</th>\n",
       "      <th>Open</th>\n",
       "      <th>High</th>\n",
       "      <th>Low</th>\n",
       "      <th>Close*</th>\n",
       "      <th>Adj Close**</th>\n",
       "      <th>Volume</th>\n",
       "    </tr>\n",
       "  </thead>\n",
       "  <tbody>\n",
       "    <tr>\n",
       "      <th>0</th>\n",
       "      <td>Apr. 03, 2019</td>\n",
       "      <td>193.25</td>\n",
       "      <td>196.50</td>\n",
       "      <td>193.16</td>\n",
       "      <td>196.07</td>\n",
       "      <td>196.07</td>\n",
       "      <td>10,732,573</td>\n",
       "    </tr>\n",
       "    <tr>\n",
       "      <th>1</th>\n",
       "      <td>Apr. 02, 2019</td>\n",
       "      <td>191.09</td>\n",
       "      <td>194.46</td>\n",
       "      <td>191.05</td>\n",
       "      <td>194.02</td>\n",
       "      <td>194.02</td>\n",
       "      <td>22,732,600</td>\n",
       "    </tr>\n",
       "    <tr>\n",
       "      <th>2</th>\n",
       "      <td>Apr. 01, 2019</td>\n",
       "      <td>191.64</td>\n",
       "      <td>191.68</td>\n",
       "      <td>188.38</td>\n",
       "      <td>191.24</td>\n",
       "      <td>191.24</td>\n",
       "      <td>27,862,000</td>\n",
       "    </tr>\n",
       "    <tr>\n",
       "      <th>3</th>\n",
       "      <td>Mar. 29, 2019</td>\n",
       "      <td>189.83</td>\n",
       "      <td>190.08</td>\n",
       "      <td>188.54</td>\n",
       "      <td>189.95</td>\n",
       "      <td>189.95</td>\n",
       "      <td>23,564,000</td>\n",
       "    </tr>\n",
       "    <tr>\n",
       "      <th>4</th>\n",
       "      <td>Mar. 28, 2019</td>\n",
       "      <td>188.95</td>\n",
       "      <td>189.56</td>\n",
       "      <td>187.53</td>\n",
       "      <td>188.72</td>\n",
       "      <td>188.72</td>\n",
       "      <td>20,780,400</td>\n",
       "    </tr>\n",
       "    <tr>\n",
       "      <th>5</th>\n",
       "      <td>Mar. 27, 2019</td>\n",
       "      <td>188.75</td>\n",
       "      <td>189.76</td>\n",
       "      <td>186.55</td>\n",
       "      <td>188.47</td>\n",
       "      <td>188.47</td>\n",
       "      <td>29,848,400</td>\n",
       "    </tr>\n",
       "    <tr>\n",
       "      <th>6</th>\n",
       "      <td>Mar. 26, 2019</td>\n",
       "      <td>191.66</td>\n",
       "      <td>192.88</td>\n",
       "      <td>184.58</td>\n",
       "      <td>186.79</td>\n",
       "      <td>186.79</td>\n",
       "      <td>49,800,500</td>\n",
       "    </tr>\n",
       "    <tr>\n",
       "      <th>7</th>\n",
       "      <td>Mar. 25, 2019</td>\n",
       "      <td>191.51</td>\n",
       "      <td>191.98</td>\n",
       "      <td>186.60</td>\n",
       "      <td>188.74</td>\n",
       "      <td>188.74</td>\n",
       "      <td>43,845,300</td>\n",
       "    </tr>\n",
       "    <tr>\n",
       "      <th>8</th>\n",
       "      <td>Mar. 22, 2019</td>\n",
       "      <td>195.34</td>\n",
       "      <td>197.69</td>\n",
       "      <td>190.78</td>\n",
       "      <td>191.05</td>\n",
       "      <td>191.05</td>\n",
       "      <td>42,407,700</td>\n",
       "    </tr>\n",
       "  </tbody>\n",
       "</table>\n",
       "</div>"
      ],
      "text/plain": [
       "            Date    Open    High     Low  Close*  Adj Close**      Volume\n",
       "0  Apr. 03, 2019  193.25  196.50  193.16  196.07       196.07  10,732,573\n",
       "1  Apr. 02, 2019  191.09  194.46  191.05  194.02       194.02  22,732,600\n",
       "2  Apr. 01, 2019  191.64  191.68  188.38  191.24       191.24  27,862,000\n",
       "3  Mar. 29, 2019  189.83  190.08  188.54  189.95       189.95  23,564,000\n",
       "4  Mar. 28, 2019  188.95  189.56  187.53  188.72       188.72  20,780,400\n",
       "5  Mar. 27, 2019  188.75  189.76  186.55  188.47       188.47  29,848,400\n",
       "6  Mar. 26, 2019  191.66  192.88  184.58  186.79       186.79  49,800,500\n",
       "7  Mar. 25, 2019  191.51  191.98  186.60  188.74       188.74  43,845,300\n",
       "8  Mar. 22, 2019  195.34  197.69  190.78  191.05       191.05  42,407,700"
      ]
     },
     "execution_count": 155,
     "metadata": {},
     "output_type": "execute_result"
    }
   ],
   "source": [
    "mesDonnCop"
   ]
  },
  {
   "cell_type": "code",
   "execution_count": 157,
   "metadata": {},
   "outputs": [],
   "source": [
    "mesDonneComple=pd.read_csv(\"AAPL.csv\")"
   ]
  },
  {
   "cell_type": "code",
   "execution_count": 158,
   "metadata": {},
   "outputs": [
    {
     "data": {
      "text/html": [
       "<div>\n",
       "<style>\n",
       "    .dataframe thead tr:only-child th {\n",
       "        text-align: right;\n",
       "    }\n",
       "\n",
       "    .dataframe thead th {\n",
       "        text-align: left;\n",
       "    }\n",
       "\n",
       "    .dataframe tbody tr th {\n",
       "        vertical-align: top;\n",
       "    }\n",
       "</style>\n",
       "<table border=\"1\" class=\"dataframe\">\n",
       "  <thead>\n",
       "    <tr style=\"text-align: right;\">\n",
       "      <th></th>\n",
       "      <th>Date</th>\n",
       "      <th>Open</th>\n",
       "      <th>High</th>\n",
       "      <th>Low</th>\n",
       "      <th>Close</th>\n",
       "      <th>Adj Close</th>\n",
       "      <th>Volume</th>\n",
       "    </tr>\n",
       "  </thead>\n",
       "  <tbody>\n",
       "    <tr>\n",
       "      <th>0</th>\n",
       "      <td>2019-03-04</td>\n",
       "      <td>175.690002</td>\n",
       "      <td>177.750000</td>\n",
       "      <td>173.970001</td>\n",
       "      <td>175.850006</td>\n",
       "      <td>175.850006</td>\n",
       "      <td>27436200</td>\n",
       "    </tr>\n",
       "    <tr>\n",
       "      <th>1</th>\n",
       "      <td>2019-03-05</td>\n",
       "      <td>175.940002</td>\n",
       "      <td>176.000000</td>\n",
       "      <td>174.539993</td>\n",
       "      <td>175.529999</td>\n",
       "      <td>175.529999</td>\n",
       "      <td>19737400</td>\n",
       "    </tr>\n",
       "    <tr>\n",
       "      <th>2</th>\n",
       "      <td>2019-03-06</td>\n",
       "      <td>174.669998</td>\n",
       "      <td>175.490005</td>\n",
       "      <td>173.940002</td>\n",
       "      <td>174.520004</td>\n",
       "      <td>174.520004</td>\n",
       "      <td>20810400</td>\n",
       "    </tr>\n",
       "    <tr>\n",
       "      <th>3</th>\n",
       "      <td>2019-03-07</td>\n",
       "      <td>173.869995</td>\n",
       "      <td>174.440002</td>\n",
       "      <td>172.020004</td>\n",
       "      <td>172.500000</td>\n",
       "      <td>172.500000</td>\n",
       "      <td>24796400</td>\n",
       "    </tr>\n",
       "    <tr>\n",
       "      <th>4</th>\n",
       "      <td>2019-03-08</td>\n",
       "      <td>170.320007</td>\n",
       "      <td>173.070007</td>\n",
       "      <td>169.500000</td>\n",
       "      <td>172.910004</td>\n",
       "      <td>172.910004</td>\n",
       "      <td>23999400</td>\n",
       "    </tr>\n",
       "  </tbody>\n",
       "</table>\n",
       "</div>"
      ],
      "text/plain": [
       "         Date        Open        High         Low       Close   Adj Close  \\\n",
       "0  2019-03-04  175.690002  177.750000  173.970001  175.850006  175.850006   \n",
       "1  2019-03-05  175.940002  176.000000  174.539993  175.529999  175.529999   \n",
       "2  2019-03-06  174.669998  175.490005  173.940002  174.520004  174.520004   \n",
       "3  2019-03-07  173.869995  174.440002  172.020004  172.500000  172.500000   \n",
       "4  2019-03-08  170.320007  173.070007  169.500000  172.910004  172.910004   \n",
       "\n",
       "     Volume  \n",
       "0  27436200  \n",
       "1  19737400  \n",
       "2  20810400  \n",
       "3  24796400  \n",
       "4  23999400  "
      ]
     },
     "execution_count": 158,
     "metadata": {},
     "output_type": "execute_result"
    }
   ],
   "source": [
    "mesDonneComple.head()"
   ]
  },
  {
   "cell_type": "code",
   "execution_count": 159,
   "metadata": {},
   "outputs": [
    {
     "data": {
      "text/html": [
       "<div>\n",
       "<style>\n",
       "    .dataframe thead tr:only-child th {\n",
       "        text-align: right;\n",
       "    }\n",
       "\n",
       "    .dataframe thead th {\n",
       "        text-align: left;\n",
       "    }\n",
       "\n",
       "    .dataframe tbody tr th {\n",
       "        vertical-align: top;\n",
       "    }\n",
       "</style>\n",
       "<table border=\"1\" class=\"dataframe\">\n",
       "  <thead>\n",
       "    <tr style=\"text-align: right;\">\n",
       "      <th></th>\n",
       "      <th>Date</th>\n",
       "      <th>Open</th>\n",
       "      <th>High</th>\n",
       "      <th>Low</th>\n",
       "      <th>Close</th>\n",
       "      <th>Adj Close</th>\n",
       "      <th>Volume</th>\n",
       "    </tr>\n",
       "  </thead>\n",
       "  <tbody>\n",
       "    <tr>\n",
       "      <th>18</th>\n",
       "      <td>2019-03-28</td>\n",
       "      <td>188.949997</td>\n",
       "      <td>189.559998</td>\n",
       "      <td>187.529999</td>\n",
       "      <td>188.720001</td>\n",
       "      <td>188.720001</td>\n",
       "      <td>20780400</td>\n",
       "    </tr>\n",
       "    <tr>\n",
       "      <th>19</th>\n",
       "      <td>2019-03-29</td>\n",
       "      <td>189.830002</td>\n",
       "      <td>190.080002</td>\n",
       "      <td>188.539993</td>\n",
       "      <td>189.949997</td>\n",
       "      <td>189.949997</td>\n",
       "      <td>23564000</td>\n",
       "    </tr>\n",
       "    <tr>\n",
       "      <th>20</th>\n",
       "      <td>2019-04-01</td>\n",
       "      <td>191.639999</td>\n",
       "      <td>191.679993</td>\n",
       "      <td>188.380005</td>\n",
       "      <td>191.240005</td>\n",
       "      <td>191.240005</td>\n",
       "      <td>27862000</td>\n",
       "    </tr>\n",
       "    <tr>\n",
       "      <th>21</th>\n",
       "      <td>2019-04-02</td>\n",
       "      <td>191.089996</td>\n",
       "      <td>194.460007</td>\n",
       "      <td>191.050003</td>\n",
       "      <td>194.020004</td>\n",
       "      <td>194.020004</td>\n",
       "      <td>22732600</td>\n",
       "    </tr>\n",
       "    <tr>\n",
       "      <th>22</th>\n",
       "      <td>2019-04-03</td>\n",
       "      <td>193.250000</td>\n",
       "      <td>196.500000</td>\n",
       "      <td>193.160004</td>\n",
       "      <td>196.059998</td>\n",
       "      <td>196.059998</td>\n",
       "      <td>10736807</td>\n",
       "    </tr>\n",
       "  </tbody>\n",
       "</table>\n",
       "</div>"
      ],
      "text/plain": [
       "          Date        Open        High         Low       Close   Adj Close  \\\n",
       "18  2019-03-28  188.949997  189.559998  187.529999  188.720001  188.720001   \n",
       "19  2019-03-29  189.830002  190.080002  188.539993  189.949997  189.949997   \n",
       "20  2019-04-01  191.639999  191.679993  188.380005  191.240005  191.240005   \n",
       "21  2019-04-02  191.089996  194.460007  191.050003  194.020004  194.020004   \n",
       "22  2019-04-03  193.250000  196.500000  193.160004  196.059998  196.059998   \n",
       "\n",
       "      Volume  \n",
       "18  20780400  \n",
       "19  23564000  \n",
       "20  27862000  \n",
       "21  22732600  \n",
       "22  10736807  "
      ]
     },
     "execution_count": 159,
     "metadata": {},
     "output_type": "execute_result"
    }
   ],
   "source": [
    "mesDonneComple.tail()"
   ]
  },
  {
   "cell_type": "code",
   "execution_count": 160,
   "metadata": {},
   "outputs": [
    {
     "data": {
      "text/plain": [
       "(23, 7)"
      ]
     },
     "execution_count": 160,
     "metadata": {},
     "output_type": "execute_result"
    }
   ],
   "source": [
    "mesDonneComple.shape"
   ]
  },
  {
   "cell_type": "code",
   "execution_count": 162,
   "metadata": {},
   "outputs": [
    {
     "data": {
      "text/plain": [
       "Index(['Date', 'Open', 'High', 'Low', 'Close', 'Adj Close', 'Volume'], dtype='object')"
      ]
     },
     "execution_count": 162,
     "metadata": {},
     "output_type": "execute_result"
    }
   ],
   "source": [
    "mesDonneComple.columns"
   ]
  },
  {
   "cell_type": "code",
   "execution_count": 171,
   "metadata": {},
   "outputs": [
    {
     "data": {
      "text/html": [
       "<div>\n",
       "<style>\n",
       "    .dataframe thead tr:only-child th {\n",
       "        text-align: right;\n",
       "    }\n",
       "\n",
       "    .dataframe thead th {\n",
       "        text-align: left;\n",
       "    }\n",
       "\n",
       "    .dataframe tbody tr th {\n",
       "        vertical-align: top;\n",
       "    }\n",
       "</style>\n",
       "<table border=\"1\" class=\"dataframe\">\n",
       "  <thead>\n",
       "    <tr style=\"text-align: right;\">\n",
       "      <th></th>\n",
       "      <th>Date</th>\n",
       "      <th>Open</th>\n",
       "      <th>High</th>\n",
       "      <th>Low</th>\n",
       "      <th>Close</th>\n",
       "      <th>Adj Close</th>\n",
       "      <th>Volume</th>\n",
       "    </tr>\n",
       "  </thead>\n",
       "  <tbody>\n",
       "    <tr>\n",
       "      <th>0</th>\n",
       "      <td>2019-03-04</td>\n",
       "      <td>175.690002</td>\n",
       "      <td>177.750000</td>\n",
       "      <td>173.970001</td>\n",
       "      <td>175.850006</td>\n",
       "      <td>175.850006</td>\n",
       "      <td>27436200</td>\n",
       "    </tr>\n",
       "    <tr>\n",
       "      <th>1</th>\n",
       "      <td>2019-03-05</td>\n",
       "      <td>175.940002</td>\n",
       "      <td>176.000000</td>\n",
       "      <td>174.539993</td>\n",
       "      <td>175.529999</td>\n",
       "      <td>175.529999</td>\n",
       "      <td>19737400</td>\n",
       "    </tr>\n",
       "    <tr>\n",
       "      <th>2</th>\n",
       "      <td>2019-03-06</td>\n",
       "      <td>174.669998</td>\n",
       "      <td>175.490005</td>\n",
       "      <td>173.940002</td>\n",
       "      <td>174.520004</td>\n",
       "      <td>174.520004</td>\n",
       "      <td>20810400</td>\n",
       "    </tr>\n",
       "    <tr>\n",
       "      <th>3</th>\n",
       "      <td>2019-03-07</td>\n",
       "      <td>173.869995</td>\n",
       "      <td>174.440002</td>\n",
       "      <td>172.020004</td>\n",
       "      <td>172.500000</td>\n",
       "      <td>172.500000</td>\n",
       "      <td>24796400</td>\n",
       "    </tr>\n",
       "    <tr>\n",
       "      <th>4</th>\n",
       "      <td>2019-03-08</td>\n",
       "      <td>170.320007</td>\n",
       "      <td>173.070007</td>\n",
       "      <td>169.500000</td>\n",
       "      <td>172.910004</td>\n",
       "      <td>172.910004</td>\n",
       "      <td>23999400</td>\n",
       "    </tr>\n",
       "    <tr>\n",
       "      <th>5</th>\n",
       "      <td>2019-03-11</td>\n",
       "      <td>175.490005</td>\n",
       "      <td>179.119995</td>\n",
       "      <td>175.350006</td>\n",
       "      <td>178.899994</td>\n",
       "      <td>178.899994</td>\n",
       "      <td>32011000</td>\n",
       "    </tr>\n",
       "    <tr>\n",
       "      <th>6</th>\n",
       "      <td>2019-03-12</td>\n",
       "      <td>180.000000</td>\n",
       "      <td>182.669998</td>\n",
       "      <td>179.369995</td>\n",
       "      <td>180.910004</td>\n",
       "      <td>180.910004</td>\n",
       "      <td>32467600</td>\n",
       "    </tr>\n",
       "    <tr>\n",
       "      <th>7</th>\n",
       "      <td>2019-03-13</td>\n",
       "      <td>182.250000</td>\n",
       "      <td>183.300003</td>\n",
       "      <td>180.919998</td>\n",
       "      <td>181.710007</td>\n",
       "      <td>181.710007</td>\n",
       "      <td>31032500</td>\n",
       "    </tr>\n",
       "    <tr>\n",
       "      <th>8</th>\n",
       "      <td>2019-03-14</td>\n",
       "      <td>183.899994</td>\n",
       "      <td>184.100006</td>\n",
       "      <td>182.559998</td>\n",
       "      <td>183.729996</td>\n",
       "      <td>183.729996</td>\n",
       "      <td>23579500</td>\n",
       "    </tr>\n",
       "    <tr>\n",
       "      <th>9</th>\n",
       "      <td>2019-03-15</td>\n",
       "      <td>184.850006</td>\n",
       "      <td>187.330002</td>\n",
       "      <td>183.740005</td>\n",
       "      <td>186.119995</td>\n",
       "      <td>186.119995</td>\n",
       "      <td>39042900</td>\n",
       "    </tr>\n",
       "    <tr>\n",
       "      <th>10</th>\n",
       "      <td>2019-03-18</td>\n",
       "      <td>185.800003</td>\n",
       "      <td>188.389999</td>\n",
       "      <td>185.789993</td>\n",
       "      <td>188.020004</td>\n",
       "      <td>188.020004</td>\n",
       "      <td>26219800</td>\n",
       "    </tr>\n",
       "    <tr>\n",
       "      <th>11</th>\n",
       "      <td>2019-03-19</td>\n",
       "      <td>188.350006</td>\n",
       "      <td>188.990005</td>\n",
       "      <td>185.919998</td>\n",
       "      <td>186.529999</td>\n",
       "      <td>186.529999</td>\n",
       "      <td>31646400</td>\n",
       "    </tr>\n",
       "    <tr>\n",
       "      <th>12</th>\n",
       "      <td>2019-03-20</td>\n",
       "      <td>186.229996</td>\n",
       "      <td>189.490005</td>\n",
       "      <td>184.729996</td>\n",
       "      <td>188.160004</td>\n",
       "      <td>188.160004</td>\n",
       "      <td>31035200</td>\n",
       "    </tr>\n",
       "    <tr>\n",
       "      <th>13</th>\n",
       "      <td>2019-03-21</td>\n",
       "      <td>190.020004</td>\n",
       "      <td>196.330002</td>\n",
       "      <td>189.809998</td>\n",
       "      <td>195.089996</td>\n",
       "      <td>195.089996</td>\n",
       "      <td>51034200</td>\n",
       "    </tr>\n",
       "    <tr>\n",
       "      <th>14</th>\n",
       "      <td>2019-03-22</td>\n",
       "      <td>195.339996</td>\n",
       "      <td>197.690002</td>\n",
       "      <td>190.779999</td>\n",
       "      <td>191.050003</td>\n",
       "      <td>191.050003</td>\n",
       "      <td>42407700</td>\n",
       "    </tr>\n",
       "    <tr>\n",
       "      <th>15</th>\n",
       "      <td>2019-03-25</td>\n",
       "      <td>191.509995</td>\n",
       "      <td>191.979996</td>\n",
       "      <td>186.600006</td>\n",
       "      <td>188.740005</td>\n",
       "      <td>188.740005</td>\n",
       "      <td>43845300</td>\n",
       "    </tr>\n",
       "    <tr>\n",
       "      <th>16</th>\n",
       "      <td>2019-03-26</td>\n",
       "      <td>191.660004</td>\n",
       "      <td>192.880005</td>\n",
       "      <td>184.580002</td>\n",
       "      <td>186.789993</td>\n",
       "      <td>186.789993</td>\n",
       "      <td>49800500</td>\n",
       "    </tr>\n",
       "    <tr>\n",
       "      <th>17</th>\n",
       "      <td>2019-03-27</td>\n",
       "      <td>188.750000</td>\n",
       "      <td>189.759995</td>\n",
       "      <td>186.550003</td>\n",
       "      <td>188.470001</td>\n",
       "      <td>188.470001</td>\n",
       "      <td>29848400</td>\n",
       "    </tr>\n",
       "    <tr>\n",
       "      <th>18</th>\n",
       "      <td>2019-03-28</td>\n",
       "      <td>188.949997</td>\n",
       "      <td>189.559998</td>\n",
       "      <td>187.529999</td>\n",
       "      <td>188.720001</td>\n",
       "      <td>188.720001</td>\n",
       "      <td>20780400</td>\n",
       "    </tr>\n",
       "    <tr>\n",
       "      <th>19</th>\n",
       "      <td>2019-03-29</td>\n",
       "      <td>189.830002</td>\n",
       "      <td>190.080002</td>\n",
       "      <td>188.539993</td>\n",
       "      <td>189.949997</td>\n",
       "      <td>189.949997</td>\n",
       "      <td>23564000</td>\n",
       "    </tr>\n",
       "    <tr>\n",
       "      <th>20</th>\n",
       "      <td>2019-04-01</td>\n",
       "      <td>191.639999</td>\n",
       "      <td>191.679993</td>\n",
       "      <td>188.380005</td>\n",
       "      <td>191.240005</td>\n",
       "      <td>191.240005</td>\n",
       "      <td>27862000</td>\n",
       "    </tr>\n",
       "    <tr>\n",
       "      <th>21</th>\n",
       "      <td>2019-04-02</td>\n",
       "      <td>191.089996</td>\n",
       "      <td>194.460007</td>\n",
       "      <td>191.050003</td>\n",
       "      <td>194.020004</td>\n",
       "      <td>194.020004</td>\n",
       "      <td>22732600</td>\n",
       "    </tr>\n",
       "    <tr>\n",
       "      <th>22</th>\n",
       "      <td>2019-04-03</td>\n",
       "      <td>193.250000</td>\n",
       "      <td>196.500000</td>\n",
       "      <td>193.160004</td>\n",
       "      <td>196.059998</td>\n",
       "      <td>196.059998</td>\n",
       "      <td>10736807</td>\n",
       "    </tr>\n",
       "  </tbody>\n",
       "</table>\n",
       "</div>"
      ],
      "text/plain": [
       "          Date        Open        High         Low       Close   Adj Close  \\\n",
       "0   2019-03-04  175.690002  177.750000  173.970001  175.850006  175.850006   \n",
       "1   2019-03-05  175.940002  176.000000  174.539993  175.529999  175.529999   \n",
       "2   2019-03-06  174.669998  175.490005  173.940002  174.520004  174.520004   \n",
       "3   2019-03-07  173.869995  174.440002  172.020004  172.500000  172.500000   \n",
       "4   2019-03-08  170.320007  173.070007  169.500000  172.910004  172.910004   \n",
       "5   2019-03-11  175.490005  179.119995  175.350006  178.899994  178.899994   \n",
       "6   2019-03-12  180.000000  182.669998  179.369995  180.910004  180.910004   \n",
       "7   2019-03-13  182.250000  183.300003  180.919998  181.710007  181.710007   \n",
       "8   2019-03-14  183.899994  184.100006  182.559998  183.729996  183.729996   \n",
       "9   2019-03-15  184.850006  187.330002  183.740005  186.119995  186.119995   \n",
       "10  2019-03-18  185.800003  188.389999  185.789993  188.020004  188.020004   \n",
       "11  2019-03-19  188.350006  188.990005  185.919998  186.529999  186.529999   \n",
       "12  2019-03-20  186.229996  189.490005  184.729996  188.160004  188.160004   \n",
       "13  2019-03-21  190.020004  196.330002  189.809998  195.089996  195.089996   \n",
       "14  2019-03-22  195.339996  197.690002  190.779999  191.050003  191.050003   \n",
       "15  2019-03-25  191.509995  191.979996  186.600006  188.740005  188.740005   \n",
       "16  2019-03-26  191.660004  192.880005  184.580002  186.789993  186.789993   \n",
       "17  2019-03-27  188.750000  189.759995  186.550003  188.470001  188.470001   \n",
       "18  2019-03-28  188.949997  189.559998  187.529999  188.720001  188.720001   \n",
       "19  2019-03-29  189.830002  190.080002  188.539993  189.949997  189.949997   \n",
       "20  2019-04-01  191.639999  191.679993  188.380005  191.240005  191.240005   \n",
       "21  2019-04-02  191.089996  194.460007  191.050003  194.020004  194.020004   \n",
       "22  2019-04-03  193.250000  196.500000  193.160004  196.059998  196.059998   \n",
       "\n",
       "      Volume  \n",
       "0   27436200  \n",
       "1   19737400  \n",
       "2   20810400  \n",
       "3   24796400  \n",
       "4   23999400  \n",
       "5   32011000  \n",
       "6   32467600  \n",
       "7   31032500  \n",
       "8   23579500  \n",
       "9   39042900  \n",
       "10  26219800  \n",
       "11  31646400  \n",
       "12  31035200  \n",
       "13  51034200  \n",
       "14  42407700  \n",
       "15  43845300  \n",
       "16  49800500  \n",
       "17  29848400  \n",
       "18  20780400  \n",
       "19  23564000  \n",
       "20  27862000  \n",
       "21  22732600  \n",
       "22  10736807  "
      ]
     },
     "execution_count": 171,
     "metadata": {},
     "output_type": "execute_result"
    }
   ],
   "source": [
    "mesDonneComple"
   ]
  },
  {
   "cell_type": "code",
   "execution_count": null,
   "metadata": {
    "collapsed": true
   },
   "outputs": [],
   "source": []
  },
  {
   "cell_type": "code",
   "execution_count": null,
   "metadata": {
    "collapsed": true
   },
   "outputs": [],
   "source": []
  },
  {
   "cell_type": "code",
   "execution_count": null,
   "metadata": {
    "collapsed": true
   },
   "outputs": [],
   "source": []
  },
  {
   "cell_type": "code",
   "execution_count": null,
   "metadata": {
    "collapsed": true
   },
   "outputs": [],
   "source": []
  },
  {
   "cell_type": "code",
   "execution_count": null,
   "metadata": {
    "collapsed": true
   },
   "outputs": [],
   "source": []
  },
  {
   "cell_type": "code",
   "execution_count": null,
   "metadata": {
    "collapsed": true
   },
   "outputs": [],
   "source": []
  },
  {
   "cell_type": "code",
   "execution_count": null,
   "metadata": {
    "collapsed": true
   },
   "outputs": [],
   "source": []
  },
  {
   "cell_type": "code",
   "execution_count": null,
   "metadata": {
    "collapsed": true
   },
   "outputs": [],
   "source": []
  },
  {
   "cell_type": "code",
   "execution_count": null,
   "metadata": {
    "collapsed": true
   },
   "outputs": [],
   "source": []
  },
  {
   "cell_type": "code",
   "execution_count": null,
   "metadata": {
    "collapsed": true
   },
   "outputs": [],
   "source": []
  },
  {
   "cell_type": "code",
   "execution_count": null,
   "metadata": {
    "collapsed": true
   },
   "outputs": [],
   "source": []
  }
 ],
 "metadata": {
  "kernelspec": {
   "display_name": "Python 3",
   "language": "python",
   "name": "python3"
  },
  "language_info": {
   "codemirror_mode": {
    "name": "ipython",
    "version": 3
   },
   "file_extension": ".py",
   "mimetype": "text/x-python",
   "name": "python",
   "nbconvert_exporter": "python",
   "pygments_lexer": "ipython3",
   "version": "3.6.1"
  }
 },
 "nbformat": 4,
 "nbformat_minor": 2
}
