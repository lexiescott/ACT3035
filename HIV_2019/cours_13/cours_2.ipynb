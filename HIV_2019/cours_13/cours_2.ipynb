{
 "cells": [
  {
   "cell_type": "markdown",
   "metadata": {},
   "source": [
    "Suite Pandas"
   ]
  },
  {
   "cell_type": "code",
   "execution_count": 1,
   "metadata": {
    "collapsed": true
   },
   "outputs": [],
   "source": [
    "import pandas as pd"
   ]
  },
  {
   "cell_type": "code",
   "execution_count": 10,
   "metadata": {
    "collapsed": true
   },
   "outputs": [],
   "source": [
    "%mkdir dossier"
   ]
  },
  {
   "cell_type": "code",
   "execution_count": 9,
   "metadata": {},
   "outputs": [
    {
     "data": {
      "application/json": {
       "cell": {
        "!": "OSMagics",
        "HTML": "Other",
        "SVG": "Other",
        "bash": "Other",
        "capture": "ExecutionMagics",
        "cmd": "Other",
        "debug": "ExecutionMagics",
        "file": "Other",
        "html": "DisplayMagics",
        "javascript": "DisplayMagics",
        "js": "DisplayMagics",
        "latex": "DisplayMagics",
        "perl": "Other",
        "prun": "ExecutionMagics",
        "pypy": "Other",
        "python": "Other",
        "python2": "Other",
        "python3": "Other",
        "ruby": "Other",
        "script": "ScriptMagics",
        "sh": "Other",
        "svg": "DisplayMagics",
        "sx": "OSMagics",
        "system": "OSMagics",
        "time": "ExecutionMagics",
        "timeit": "ExecutionMagics",
        "writefile": "OSMagics"
       },
       "line": {
        "alias": "OSMagics",
        "alias_magic": "BasicMagics",
        "autocall": "AutoMagics",
        "automagic": "AutoMagics",
        "autosave": "KernelMagics",
        "bookmark": "OSMagics",
        "cd": "OSMagics",
        "clear": "KernelMagics",
        "cls": "KernelMagics",
        "colors": "BasicMagics",
        "config": "ConfigMagics",
        "connect_info": "KernelMagics",
        "copy": "Other",
        "ddir": "Other",
        "debug": "ExecutionMagics",
        "dhist": "OSMagics",
        "dirs": "OSMagics",
        "doctest_mode": "BasicMagics",
        "echo": "Other",
        "ed": "Other",
        "edit": "KernelMagics",
        "env": "OSMagics",
        "gui": "BasicMagics",
        "hist": "Other",
        "history": "HistoryMagics",
        "killbgscripts": "ScriptMagics",
        "ldir": "Other",
        "less": "KernelMagics",
        "load": "CodeMagics",
        "load_ext": "ExtensionMagics",
        "loadpy": "CodeMagics",
        "logoff": "LoggingMagics",
        "logon": "LoggingMagics",
        "logstart": "LoggingMagics",
        "logstate": "LoggingMagics",
        "logstop": "LoggingMagics",
        "ls": "Other",
        "lsmagic": "BasicMagics",
        "macro": "ExecutionMagics",
        "magic": "BasicMagics",
        "matplotlib": "PylabMagics",
        "mkdir": "Other",
        "more": "KernelMagics",
        "notebook": "BasicMagics",
        "page": "BasicMagics",
        "pastebin": "CodeMagics",
        "pdb": "ExecutionMagics",
        "pdef": "NamespaceMagics",
        "pdoc": "NamespaceMagics",
        "pfile": "NamespaceMagics",
        "pinfo": "NamespaceMagics",
        "pinfo2": "NamespaceMagics",
        "popd": "OSMagics",
        "pprint": "BasicMagics",
        "precision": "BasicMagics",
        "profile": "BasicMagics",
        "prun": "ExecutionMagics",
        "psearch": "NamespaceMagics",
        "psource": "NamespaceMagics",
        "pushd": "OSMagics",
        "pwd": "OSMagics",
        "pycat": "OSMagics",
        "pylab": "PylabMagics",
        "qtconsole": "KernelMagics",
        "quickref": "BasicMagics",
        "recall": "HistoryMagics",
        "rehashx": "OSMagics",
        "reload_ext": "ExtensionMagics",
        "ren": "Other",
        "rep": "Other",
        "rerun": "HistoryMagics",
        "reset": "NamespaceMagics",
        "reset_selective": "NamespaceMagics",
        "rmdir": "Other",
        "run": "ExecutionMagics",
        "save": "CodeMagics",
        "sc": "OSMagics",
        "set_env": "OSMagics",
        "store": "StoreMagics",
        "sx": "OSMagics",
        "system": "OSMagics",
        "tb": "ExecutionMagics",
        "time": "ExecutionMagics",
        "timeit": "ExecutionMagics",
        "unalias": "OSMagics",
        "unload_ext": "ExtensionMagics",
        "who": "NamespaceMagics",
        "who_ls": "NamespaceMagics",
        "whos": "NamespaceMagics",
        "xdel": "NamespaceMagics",
        "xmode": "BasicMagics"
       }
      },
      "text/plain": [
       "Available line magics:\n",
       "%alias  %alias_magic  %autocall  %automagic  %autosave  %bookmark  %cd  %clear  %cls  %colors  %config  %connect_info  %copy  %ddir  %debug  %dhist  %dirs  %doctest_mode  %echo  %ed  %edit  %env  %gui  %hist  %history  %killbgscripts  %ldir  %less  %load  %load_ext  %loadpy  %logoff  %logon  %logstart  %logstate  %logstop  %ls  %lsmagic  %macro  %magic  %matplotlib  %mkdir  %more  %notebook  %page  %pastebin  %pdb  %pdef  %pdoc  %pfile  %pinfo  %pinfo2  %popd  %pprint  %precision  %profile  %prun  %psearch  %psource  %pushd  %pwd  %pycat  %pylab  %qtconsole  %quickref  %recall  %rehashx  %reload_ext  %ren  %rep  %rerun  %reset  %reset_selective  %rmdir  %run  %save  %sc  %set_env  %store  %sx  %system  %tb  %time  %timeit  %unalias  %unload_ext  %who  %who_ls  %whos  %xdel  %xmode\n",
       "\n",
       "Available cell magics:\n",
       "%%!  %%HTML  %%SVG  %%bash  %%capture  %%cmd  %%debug  %%file  %%html  %%javascript  %%js  %%latex  %%perl  %%prun  %%pypy  %%python  %%python2  %%python3  %%ruby  %%script  %%sh  %%svg  %%sx  %%system  %%time  %%timeit  %%writefile\n",
       "\n",
       "Automagic is ON, % prefix IS NOT needed for line magics."
      ]
     },
     "execution_count": 9,
     "metadata": {},
     "output_type": "execute_result"
    }
   ],
   "source": [
    "%lsmagic"
   ]
  },
  {
   "cell_type": "code",
   "execution_count": 22,
   "metadata": {},
   "outputs": [],
   "source": [
    "df=pd.read_clipboard()"
   ]
  },
  {
   "cell_type": "code",
   "execution_count": 23,
   "metadata": {},
   "outputs": [
    {
     "data": {
      "text/plain": [
       "(20, 7)"
      ]
     },
     "execution_count": 23,
     "metadata": {},
     "output_type": "execute_result"
    }
   ],
   "source": [
    "df.shape"
   ]
  },
  {
   "cell_type": "code",
   "execution_count": 24,
   "metadata": {
    "collapsed": true
   },
   "outputs": [],
   "source": [
    "df.to_csv(\"AAPL.csv\",index=False)"
   ]
  },
  {
   "cell_type": "code",
   "execution_count": 28,
   "metadata": {},
   "outputs": [],
   "source": [
    "# pd.read_csv(\"https://raw.githubusercontent.com/nmeraihi/data/master/AAPL_month.csv\")"
   ]
  },
  {
   "cell_type": "markdown",
   "metadata": {},
   "source": [
    "Aujourd'hui je veux relire le fichier AAPL que j'ai créé la derniere fois"
   ]
  },
  {
   "cell_type": "code",
   "execution_count": 94,
   "metadata": {},
   "outputs": [],
   "source": [
    "df=pd.read_csv(\"AAPL.csv\")"
   ]
  },
  {
   "cell_type": "code",
   "execution_count": 39,
   "metadata": {},
   "outputs": [
    {
     "data": {
      "text/html": [
       "<div>\n",
       "<style>\n",
       "    .dataframe thead tr:only-child th {\n",
       "        text-align: right;\n",
       "    }\n",
       "\n",
       "    .dataframe thead th {\n",
       "        text-align: left;\n",
       "    }\n",
       "\n",
       "    .dataframe tbody tr th {\n",
       "        vertical-align: top;\n",
       "    }\n",
       "</style>\n",
       "<table border=\"1\" class=\"dataframe\">\n",
       "  <thead>\n",
       "    <tr style=\"text-align: right;\">\n",
       "      <th></th>\n",
       "      <th>Date</th>\n",
       "      <th>Open</th>\n",
       "      <th>High</th>\n",
       "      <th>Low</th>\n",
       "      <th>Close*</th>\n",
       "      <th>Adj Close**</th>\n",
       "      <th>Volume</th>\n",
       "    </tr>\n",
       "  </thead>\n",
       "  <tbody>\n",
       "    <tr>\n",
       "      <th>0</th>\n",
       "      <td>Apr 10, 2019</td>\n",
       "      <td>200.32</td>\n",
       "      <td>199.19</td>\n",
       "      <td>198.60</td>\n",
       "      <td>198.83</td>\n",
       "      <td>198.83</td>\n",
       "      <td>1,100,223</td>\n",
       "    </tr>\n",
       "    <tr>\n",
       "      <th>1</th>\n",
       "      <td>Apr 09, 2019</td>\n",
       "      <td>200.32</td>\n",
       "      <td>202.85</td>\n",
       "      <td>199.23</td>\n",
       "      <td>199.50</td>\n",
       "      <td>199.50</td>\n",
       "      <td>35,750,400</td>\n",
       "    </tr>\n",
       "    <tr>\n",
       "      <th>2</th>\n",
       "      <td>Apr 08, 2019</td>\n",
       "      <td>196.42</td>\n",
       "      <td>200.23</td>\n",
       "      <td>196.34</td>\n",
       "      <td>200.10</td>\n",
       "      <td>200.10</td>\n",
       "      <td>25,881,700</td>\n",
       "    </tr>\n",
       "    <tr>\n",
       "      <th>3</th>\n",
       "      <td>Apr 05, 2019</td>\n",
       "      <td>196.45</td>\n",
       "      <td>197.10</td>\n",
       "      <td>195.93</td>\n",
       "      <td>197.00</td>\n",
       "      <td>197.00</td>\n",
       "      <td>18,526,600</td>\n",
       "    </tr>\n",
       "    <tr>\n",
       "      <th>4</th>\n",
       "      <td>Apr 04, 2019</td>\n",
       "      <td>194.79</td>\n",
       "      <td>196.37</td>\n",
       "      <td>193.14</td>\n",
       "      <td>195.69</td>\n",
       "      <td>195.69</td>\n",
       "      <td>19,114,300</td>\n",
       "    </tr>\n",
       "  </tbody>\n",
       "</table>\n",
       "</div>"
      ],
      "text/plain": [
       "           Date    Open    High     Low  Close*  Adj Close**      Volume\n",
       "0  Apr 10, 2019  200.32  199.19  198.60  198.83       198.83   1,100,223\n",
       "1  Apr 09, 2019  200.32  202.85  199.23  199.50       199.50  35,750,400\n",
       "2  Apr 08, 2019  196.42  200.23  196.34  200.10       200.10  25,881,700\n",
       "3  Apr 05, 2019  196.45  197.10  195.93  197.00       197.00  18,526,600\n",
       "4  Apr 04, 2019  194.79  196.37  193.14  195.69       195.69  19,114,300"
      ]
     },
     "execution_count": 39,
     "metadata": {},
     "output_type": "execute_result"
    }
   ],
   "source": [
    "df.head()"
   ]
  },
  {
   "cell_type": "code",
   "execution_count": 34,
   "metadata": {},
   "outputs": [],
   "source": [
    "# !pip install pandas_datareader.data"
   ]
  },
  {
   "cell_type": "code",
   "execution_count": 35,
   "metadata": {
    "collapsed": true
   },
   "outputs": [],
   "source": [
    "# import pandas_datareader.data as "
   ]
  },
  {
   "cell_type": "code",
   "execution_count": 36,
   "metadata": {},
   "outputs": [],
   "source": [
    "# import pandas_datareader.data as web"
   ]
  },
  {
   "cell_type": "code",
   "execution_count": 40,
   "metadata": {},
   "outputs": [
    {
     "data": {
      "text/html": [
       "<div>\n",
       "<style>\n",
       "    .dataframe thead tr:only-child th {\n",
       "        text-align: right;\n",
       "    }\n",
       "\n",
       "    .dataframe thead th {\n",
       "        text-align: left;\n",
       "    }\n",
       "\n",
       "    .dataframe tbody tr th {\n",
       "        vertical-align: top;\n",
       "    }\n",
       "</style>\n",
       "<table border=\"1\" class=\"dataframe\">\n",
       "  <thead>\n",
       "    <tr style=\"text-align: right;\">\n",
       "      <th></th>\n",
       "      <th>Date</th>\n",
       "      <th>Open</th>\n",
       "      <th>High</th>\n",
       "      <th>Low</th>\n",
       "      <th>Close*</th>\n",
       "      <th>Adj Close**</th>\n",
       "      <th>Volume</th>\n",
       "    </tr>\n",
       "  </thead>\n",
       "  <tbody>\n",
       "    <tr>\n",
       "      <th>0</th>\n",
       "      <td>Apr 10, 2019</td>\n",
       "      <td>200.32</td>\n",
       "      <td>199.19</td>\n",
       "      <td>198.60</td>\n",
       "      <td>198.83</td>\n",
       "      <td>198.83</td>\n",
       "      <td>1,100,223</td>\n",
       "    </tr>\n",
       "    <tr>\n",
       "      <th>1</th>\n",
       "      <td>Apr 09, 2019</td>\n",
       "      <td>200.32</td>\n",
       "      <td>202.85</td>\n",
       "      <td>199.23</td>\n",
       "      <td>199.50</td>\n",
       "      <td>199.50</td>\n",
       "      <td>35,750,400</td>\n",
       "    </tr>\n",
       "    <tr>\n",
       "      <th>2</th>\n",
       "      <td>Apr 08, 2019</td>\n",
       "      <td>196.42</td>\n",
       "      <td>200.23</td>\n",
       "      <td>196.34</td>\n",
       "      <td>200.10</td>\n",
       "      <td>200.10</td>\n",
       "      <td>25,881,700</td>\n",
       "    </tr>\n",
       "    <tr>\n",
       "      <th>3</th>\n",
       "      <td>Apr 05, 2019</td>\n",
       "      <td>196.45</td>\n",
       "      <td>197.10</td>\n",
       "      <td>195.93</td>\n",
       "      <td>197.00</td>\n",
       "      <td>197.00</td>\n",
       "      <td>18,526,600</td>\n",
       "    </tr>\n",
       "    <tr>\n",
       "      <th>4</th>\n",
       "      <td>Apr 04, 2019</td>\n",
       "      <td>194.79</td>\n",
       "      <td>196.37</td>\n",
       "      <td>193.14</td>\n",
       "      <td>195.69</td>\n",
       "      <td>195.69</td>\n",
       "      <td>19,114,300</td>\n",
       "    </tr>\n",
       "  </tbody>\n",
       "</table>\n",
       "</div>"
      ],
      "text/plain": [
       "           Date    Open    High     Low  Close*  Adj Close**      Volume\n",
       "0  Apr 10, 2019  200.32  199.19  198.60  198.83       198.83   1,100,223\n",
       "1  Apr 09, 2019  200.32  202.85  199.23  199.50       199.50  35,750,400\n",
       "2  Apr 08, 2019  196.42  200.23  196.34  200.10       200.10  25,881,700\n",
       "3  Apr 05, 2019  196.45  197.10  195.93  197.00       197.00  18,526,600\n",
       "4  Apr 04, 2019  194.79  196.37  193.14  195.69       195.69  19,114,300"
      ]
     },
     "execution_count": 40,
     "metadata": {},
     "output_type": "execute_result"
    }
   ],
   "source": [
    "df.head()"
   ]
  },
  {
   "cell_type": "code",
   "execution_count": 44,
   "metadata": {},
   "outputs": [
    {
     "data": {
      "text/plain": [
       "0    199.19\n",
       "1    202.85\n",
       "2    200.23\n",
       "3    197.10\n",
       "4    196.37\n",
       "Name: High, dtype: float64"
      ]
     },
     "execution_count": 44,
     "metadata": {},
     "output_type": "execute_result"
    }
   ],
   "source": [
    "df.High.head() # selectionner la colonne"
   ]
  },
  {
   "cell_type": "code",
   "execution_count": 46,
   "metadata": {},
   "outputs": [
    {
     "data": {
      "text/plain": [
       "0    199.19\n",
       "1    202.85\n",
       "2    200.23\n",
       "3    197.10\n",
       "4    196.37\n",
       "Name: High, dtype: float64"
      ]
     },
     "execution_count": 46,
     "metadata": {},
     "output_type": "execute_result"
    }
   ],
   "source": [
    "df[\"High\"].head()"
   ]
  },
  {
   "cell_type": "code",
   "execution_count": 50,
   "metadata": {},
   "outputs": [],
   "source": [
    "df2=df[[\"Open\", \"Low\"]]"
   ]
  },
  {
   "cell_type": "code",
   "execution_count": 51,
   "metadata": {},
   "outputs": [
    {
     "data": {
      "text/html": [
       "<div>\n",
       "<style>\n",
       "    .dataframe thead tr:only-child th {\n",
       "        text-align: right;\n",
       "    }\n",
       "\n",
       "    .dataframe thead th {\n",
       "        text-align: left;\n",
       "    }\n",
       "\n",
       "    .dataframe tbody tr th {\n",
       "        vertical-align: top;\n",
       "    }\n",
       "</style>\n",
       "<table border=\"1\" class=\"dataframe\">\n",
       "  <thead>\n",
       "    <tr style=\"text-align: right;\">\n",
       "      <th></th>\n",
       "      <th>Date</th>\n",
       "      <th>Open</th>\n",
       "      <th>High</th>\n",
       "      <th>Low</th>\n",
       "      <th>Close*</th>\n",
       "      <th>Adj Close**</th>\n",
       "      <th>Volume</th>\n",
       "    </tr>\n",
       "  </thead>\n",
       "  <tbody>\n",
       "    <tr>\n",
       "      <th>0</th>\n",
       "      <td>Apr 10, 2019</td>\n",
       "      <td>200.32</td>\n",
       "      <td>199.19</td>\n",
       "      <td>198.60</td>\n",
       "      <td>198.83</td>\n",
       "      <td>198.83</td>\n",
       "      <td>1,100,223</td>\n",
       "    </tr>\n",
       "    <tr>\n",
       "      <th>1</th>\n",
       "      <td>Apr 09, 2019</td>\n",
       "      <td>200.32</td>\n",
       "      <td>202.85</td>\n",
       "      <td>199.23</td>\n",
       "      <td>199.50</td>\n",
       "      <td>199.50</td>\n",
       "      <td>35,750,400</td>\n",
       "    </tr>\n",
       "    <tr>\n",
       "      <th>2</th>\n",
       "      <td>Apr 08, 2019</td>\n",
       "      <td>196.42</td>\n",
       "      <td>200.23</td>\n",
       "      <td>196.34</td>\n",
       "      <td>200.10</td>\n",
       "      <td>200.10</td>\n",
       "      <td>25,881,700</td>\n",
       "    </tr>\n",
       "    <tr>\n",
       "      <th>3</th>\n",
       "      <td>Apr 05, 2019</td>\n",
       "      <td>196.45</td>\n",
       "      <td>197.10</td>\n",
       "      <td>195.93</td>\n",
       "      <td>197.00</td>\n",
       "      <td>197.00</td>\n",
       "      <td>18,526,600</td>\n",
       "    </tr>\n",
       "    <tr>\n",
       "      <th>4</th>\n",
       "      <td>Apr 04, 2019</td>\n",
       "      <td>194.79</td>\n",
       "      <td>196.37</td>\n",
       "      <td>193.14</td>\n",
       "      <td>195.69</td>\n",
       "      <td>195.69</td>\n",
       "      <td>19,114,300</td>\n",
       "    </tr>\n",
       "  </tbody>\n",
       "</table>\n",
       "</div>"
      ],
      "text/plain": [
       "           Date    Open    High     Low  Close*  Adj Close**      Volume\n",
       "0  Apr 10, 2019  200.32  199.19  198.60  198.83       198.83   1,100,223\n",
       "1  Apr 09, 2019  200.32  202.85  199.23  199.50       199.50  35,750,400\n",
       "2  Apr 08, 2019  196.42  200.23  196.34  200.10       200.10  25,881,700\n",
       "3  Apr 05, 2019  196.45  197.10  195.93  197.00       197.00  18,526,600\n",
       "4  Apr 04, 2019  194.79  196.37  193.14  195.69       195.69  19,114,300"
      ]
     },
     "execution_count": 51,
     "metadata": {},
     "output_type": "execute_result"
    }
   ],
   "source": [
    "df.head()"
   ]
  },
  {
   "cell_type": "code",
   "execution_count": 52,
   "metadata": {},
   "outputs": [
    {
     "data": {
      "text/plain": [
       "Index(['Date', 'Open', 'High', 'Low', 'Close*', 'Adj Close**', 'Volume'], dtype='object')"
      ]
     },
     "execution_count": 52,
     "metadata": {},
     "output_type": "execute_result"
    }
   ],
   "source": [
    "df.columns"
   ]
  },
  {
   "cell_type": "code",
   "execution_count": 56,
   "metadata": {},
   "outputs": [
    {
     "data": {
      "text/plain": [
       "['Date', 'Open', 'High', 'Low', 'Close*', 'Adj Close**', 'Volume']"
      ]
     },
     "execution_count": 56,
     "metadata": {},
     "output_type": "execute_result"
    }
   ],
   "source": [
    "maliste=list(df.columns)\n",
    "maliste"
   ]
  },
  {
   "cell_type": "code",
   "execution_count": 59,
   "metadata": {},
   "outputs": [],
   "source": [
    "maliste[4:6]=['Close', 'Adj Close']"
   ]
  },
  {
   "cell_type": "code",
   "execution_count": 60,
   "metadata": {
    "collapsed": true
   },
   "outputs": [],
   "source": [
    "df.columns=maliste"
   ]
  },
  {
   "cell_type": "code",
   "execution_count": 61,
   "metadata": {},
   "outputs": [
    {
     "data": {
      "text/html": [
       "<div>\n",
       "<style>\n",
       "    .dataframe thead tr:only-child th {\n",
       "        text-align: right;\n",
       "    }\n",
       "\n",
       "    .dataframe thead th {\n",
       "        text-align: left;\n",
       "    }\n",
       "\n",
       "    .dataframe tbody tr th {\n",
       "        vertical-align: top;\n",
       "    }\n",
       "</style>\n",
       "<table border=\"1\" class=\"dataframe\">\n",
       "  <thead>\n",
       "    <tr style=\"text-align: right;\">\n",
       "      <th></th>\n",
       "      <th>Date</th>\n",
       "      <th>Open</th>\n",
       "      <th>High</th>\n",
       "      <th>Low</th>\n",
       "      <th>Close</th>\n",
       "      <th>Adj Close</th>\n",
       "      <th>Volume</th>\n",
       "    </tr>\n",
       "  </thead>\n",
       "  <tbody>\n",
       "    <tr>\n",
       "      <th>0</th>\n",
       "      <td>Apr 10, 2019</td>\n",
       "      <td>200.32</td>\n",
       "      <td>199.19</td>\n",
       "      <td>198.60</td>\n",
       "      <td>198.83</td>\n",
       "      <td>198.83</td>\n",
       "      <td>1,100,223</td>\n",
       "    </tr>\n",
       "    <tr>\n",
       "      <th>1</th>\n",
       "      <td>Apr 09, 2019</td>\n",
       "      <td>200.32</td>\n",
       "      <td>202.85</td>\n",
       "      <td>199.23</td>\n",
       "      <td>199.50</td>\n",
       "      <td>199.50</td>\n",
       "      <td>35,750,400</td>\n",
       "    </tr>\n",
       "    <tr>\n",
       "      <th>2</th>\n",
       "      <td>Apr 08, 2019</td>\n",
       "      <td>196.42</td>\n",
       "      <td>200.23</td>\n",
       "      <td>196.34</td>\n",
       "      <td>200.10</td>\n",
       "      <td>200.10</td>\n",
       "      <td>25,881,700</td>\n",
       "    </tr>\n",
       "    <tr>\n",
       "      <th>3</th>\n",
       "      <td>Apr 05, 2019</td>\n",
       "      <td>196.45</td>\n",
       "      <td>197.10</td>\n",
       "      <td>195.93</td>\n",
       "      <td>197.00</td>\n",
       "      <td>197.00</td>\n",
       "      <td>18,526,600</td>\n",
       "    </tr>\n",
       "    <tr>\n",
       "      <th>4</th>\n",
       "      <td>Apr 04, 2019</td>\n",
       "      <td>194.79</td>\n",
       "      <td>196.37</td>\n",
       "      <td>193.14</td>\n",
       "      <td>195.69</td>\n",
       "      <td>195.69</td>\n",
       "      <td>19,114,300</td>\n",
       "    </tr>\n",
       "  </tbody>\n",
       "</table>\n",
       "</div>"
      ],
      "text/plain": [
       "           Date    Open    High     Low   Close  Adj Close      Volume\n",
       "0  Apr 10, 2019  200.32  199.19  198.60  198.83     198.83   1,100,223\n",
       "1  Apr 09, 2019  200.32  202.85  199.23  199.50     199.50  35,750,400\n",
       "2  Apr 08, 2019  196.42  200.23  196.34  200.10     200.10  25,881,700\n",
       "3  Apr 05, 2019  196.45  197.10  195.93  197.00     197.00  18,526,600\n",
       "4  Apr 04, 2019  194.79  196.37  193.14  195.69     195.69  19,114,300"
      ]
     },
     "execution_count": 61,
     "metadata": {},
     "output_type": "execute_result"
    }
   ],
   "source": [
    "df.head()"
   ]
  },
  {
   "cell_type": "code",
   "execution_count": 62,
   "metadata": {},
   "outputs": [
    {
     "data": {
      "text/plain": [
       "'Adj Close'"
      ]
     },
     "execution_count": 62,
     "metadata": {},
     "output_type": "execute_result"
    }
   ],
   "source": [
    "maliste[5]"
   ]
  },
  {
   "cell_type": "code",
   "execution_count": 66,
   "metadata": {},
   "outputs": [
    {
     "data": {
      "text/plain": [
       "'Adj Close'"
      ]
     },
     "execution_count": 66,
     "metadata": {},
     "output_type": "execute_result"
    }
   ],
   "source": [
    "maliste[5].strip()"
   ]
  },
  {
   "cell_type": "code",
   "execution_count": 70,
   "metadata": {
    "collapsed": true
   },
   "outputs": [],
   "source": [
    "toto=\" allo bonjour\""
   ]
  },
  {
   "cell_type": "code",
   "execution_count": 71,
   "metadata": {},
   "outputs": [
    {
     "data": {
      "text/plain": [
       "'allo bonjour'"
      ]
     },
     "execution_count": 71,
     "metadata": {},
     "output_type": "execute_result"
    }
   ],
   "source": [
    "toto.strip()"
   ]
  },
  {
   "cell_type": "code",
   "execution_count": 72,
   "metadata": {},
   "outputs": [
    {
     "data": {
      "text/plain": [
       "'allobonjour'"
      ]
     },
     "execution_count": 72,
     "metadata": {},
     "output_type": "execute_result"
    }
   ],
   "source": [
    "toto.replace(\" \", \"\")"
   ]
  },
  {
   "cell_type": "code",
   "execution_count": 74,
   "metadata": {},
   "outputs": [],
   "source": [
    "maliste2=['Date', 'Op en', 'Hi gh', 'Low', 'Close', 'Adj Close', 'Volume']"
   ]
  },
  {
   "cell_type": "code",
   "execution_count": 75,
   "metadata": {
    "collapsed": true
   },
   "outputs": [],
   "source": [
    "import numpy as np"
   ]
  },
  {
   "cell_type": "code",
   "execution_count": 123,
   "metadata": {},
   "outputs": [],
   "source": [
    "def stripCol(df, elem1, elem2):\n",
    "    maliste3=[]\n",
    "    for i in list(df.columns):\n",
    "#         nomOrig=i\n",
    "        toto=i.replace(elem1, \"\")\n",
    "        toto=toto.replace(elem2, \"\")\n",
    "        maliste3.append(toto)\n",
    "    df.columns=maliste3\n",
    "    return(df)"
   ]
  },
  {
   "cell_type": "code",
   "execution_count": 124,
   "metadata": {},
   "outputs": [
    {
     "data": {
      "text/html": [
       "<div>\n",
       "<style>\n",
       "    .dataframe thead tr:only-child th {\n",
       "        text-align: right;\n",
       "    }\n",
       "\n",
       "    .dataframe thead th {\n",
       "        text-align: left;\n",
       "    }\n",
       "\n",
       "    .dataframe tbody tr th {\n",
       "        vertical-align: top;\n",
       "    }\n",
       "</style>\n",
       "<table border=\"1\" class=\"dataframe\">\n",
       "  <thead>\n",
       "    <tr style=\"text-align: right;\">\n",
       "      <th></th>\n",
       "      <th>Date</th>\n",
       "      <th>Open</th>\n",
       "      <th>High</th>\n",
       "      <th>Low</th>\n",
       "      <th>Close</th>\n",
       "      <th>AdjClose</th>\n",
       "      <th>Volume</th>\n",
       "    </tr>\n",
       "  </thead>\n",
       "  <tbody>\n",
       "    <tr>\n",
       "      <th>0</th>\n",
       "      <td>Apr 10, 2019</td>\n",
       "      <td>200.32</td>\n",
       "      <td>199.19</td>\n",
       "      <td>198.60</td>\n",
       "      <td>198.83</td>\n",
       "      <td>198.83</td>\n",
       "      <td>1,100,223</td>\n",
       "    </tr>\n",
       "    <tr>\n",
       "      <th>1</th>\n",
       "      <td>Apr 09, 2019</td>\n",
       "      <td>200.32</td>\n",
       "      <td>202.85</td>\n",
       "      <td>199.23</td>\n",
       "      <td>199.50</td>\n",
       "      <td>199.50</td>\n",
       "      <td>35,750,400</td>\n",
       "    </tr>\n",
       "    <tr>\n",
       "      <th>2</th>\n",
       "      <td>Apr 08, 2019</td>\n",
       "      <td>196.42</td>\n",
       "      <td>200.23</td>\n",
       "      <td>196.34</td>\n",
       "      <td>200.10</td>\n",
       "      <td>200.10</td>\n",
       "      <td>25,881,700</td>\n",
       "    </tr>\n",
       "    <tr>\n",
       "      <th>3</th>\n",
       "      <td>Apr 05, 2019</td>\n",
       "      <td>196.45</td>\n",
       "      <td>197.10</td>\n",
       "      <td>195.93</td>\n",
       "      <td>197.00</td>\n",
       "      <td>197.00</td>\n",
       "      <td>18,526,600</td>\n",
       "    </tr>\n",
       "    <tr>\n",
       "      <th>4</th>\n",
       "      <td>Apr 04, 2019</td>\n",
       "      <td>194.79</td>\n",
       "      <td>196.37</td>\n",
       "      <td>193.14</td>\n",
       "      <td>195.69</td>\n",
       "      <td>195.69</td>\n",
       "      <td>19,114,300</td>\n",
       "    </tr>\n",
       "    <tr>\n",
       "      <th>5</th>\n",
       "      <td>Apr 03, 2019</td>\n",
       "      <td>193.25</td>\n",
       "      <td>196.50</td>\n",
       "      <td>193.15</td>\n",
       "      <td>195.35</td>\n",
       "      <td>195.35</td>\n",
       "      <td>23,271,800</td>\n",
       "    </tr>\n",
       "    <tr>\n",
       "      <th>6</th>\n",
       "      <td>Apr 02, 2019</td>\n",
       "      <td>191.09</td>\n",
       "      <td>194.46</td>\n",
       "      <td>191.05</td>\n",
       "      <td>194.02</td>\n",
       "      <td>194.02</td>\n",
       "      <td>22,765,700</td>\n",
       "    </tr>\n",
       "    <tr>\n",
       "      <th>7</th>\n",
       "      <td>Apr 01, 2019</td>\n",
       "      <td>191.64</td>\n",
       "      <td>191.68</td>\n",
       "      <td>188.38</td>\n",
       "      <td>191.24</td>\n",
       "      <td>191.24</td>\n",
       "      <td>27,862,000</td>\n",
       "    </tr>\n",
       "    <tr>\n",
       "      <th>8</th>\n",
       "      <td>Mar 29, 2019</td>\n",
       "      <td>189.83</td>\n",
       "      <td>190.08</td>\n",
       "      <td>188.54</td>\n",
       "      <td>189.95</td>\n",
       "      <td>189.95</td>\n",
       "      <td>23,564,000</td>\n",
       "    </tr>\n",
       "    <tr>\n",
       "      <th>9</th>\n",
       "      <td>Mar 28, 2019</td>\n",
       "      <td>188.95</td>\n",
       "      <td>189.56</td>\n",
       "      <td>187.53</td>\n",
       "      <td>188.72</td>\n",
       "      <td>188.72</td>\n",
       "      <td>20,780,400</td>\n",
       "    </tr>\n",
       "    <tr>\n",
       "      <th>10</th>\n",
       "      <td>Mar 27, 2019</td>\n",
       "      <td>188.75</td>\n",
       "      <td>189.76</td>\n",
       "      <td>186.55</td>\n",
       "      <td>188.47</td>\n",
       "      <td>188.47</td>\n",
       "      <td>29,848,400</td>\n",
       "    </tr>\n",
       "    <tr>\n",
       "      <th>11</th>\n",
       "      <td>Mar 26, 2019</td>\n",
       "      <td>191.66</td>\n",
       "      <td>192.88</td>\n",
       "      <td>184.58</td>\n",
       "      <td>186.79</td>\n",
       "      <td>186.79</td>\n",
       "      <td>49,800,500</td>\n",
       "    </tr>\n",
       "    <tr>\n",
       "      <th>12</th>\n",
       "      <td>Mar 25, 2019</td>\n",
       "      <td>191.51</td>\n",
       "      <td>191.98</td>\n",
       "      <td>186.60</td>\n",
       "      <td>188.74</td>\n",
       "      <td>188.74</td>\n",
       "      <td>43,845,300</td>\n",
       "    </tr>\n",
       "    <tr>\n",
       "      <th>13</th>\n",
       "      <td>Mar 22, 2019</td>\n",
       "      <td>195.34</td>\n",
       "      <td>197.69</td>\n",
       "      <td>190.78</td>\n",
       "      <td>191.05</td>\n",
       "      <td>191.05</td>\n",
       "      <td>42,407,700</td>\n",
       "    </tr>\n",
       "    <tr>\n",
       "      <th>14</th>\n",
       "      <td>Mar 21, 2019</td>\n",
       "      <td>190.02</td>\n",
       "      <td>196.33</td>\n",
       "      <td>189.81</td>\n",
       "      <td>195.09</td>\n",
       "      <td>195.09</td>\n",
       "      <td>51,034,200</td>\n",
       "    </tr>\n",
       "    <tr>\n",
       "      <th>15</th>\n",
       "      <td>Mar 20, 2019</td>\n",
       "      <td>186.23</td>\n",
       "      <td>189.49</td>\n",
       "      <td>184.73</td>\n",
       "      <td>188.16</td>\n",
       "      <td>188.16</td>\n",
       "      <td>31,035,200</td>\n",
       "    </tr>\n",
       "    <tr>\n",
       "      <th>16</th>\n",
       "      <td>Mar 19, 2019</td>\n",
       "      <td>188.35</td>\n",
       "      <td>188.99</td>\n",
       "      <td>185.92</td>\n",
       "      <td>186.53</td>\n",
       "      <td>186.53</td>\n",
       "      <td>31,646,400</td>\n",
       "    </tr>\n",
       "    <tr>\n",
       "      <th>17</th>\n",
       "      <td>Mar 18, 2019</td>\n",
       "      <td>185.80</td>\n",
       "      <td>188.39</td>\n",
       "      <td>185.79</td>\n",
       "      <td>188.02</td>\n",
       "      <td>188.02</td>\n",
       "      <td>26,219,800</td>\n",
       "    </tr>\n",
       "    <tr>\n",
       "      <th>18</th>\n",
       "      <td>Mar 15, 2019</td>\n",
       "      <td>184.85</td>\n",
       "      <td>187.33</td>\n",
       "      <td>183.74</td>\n",
       "      <td>186.12</td>\n",
       "      <td>186.12</td>\n",
       "      <td>39,042,900</td>\n",
       "    </tr>\n",
       "    <tr>\n",
       "      <th>19</th>\n",
       "      <td>Mar 14, 2019</td>\n",
       "      <td>183.90</td>\n",
       "      <td>184.10</td>\n",
       "      <td>182.56</td>\n",
       "      <td>183.73</td>\n",
       "      <td>183.73</td>\n",
       "      <td>23,579,500</td>\n",
       "    </tr>\n",
       "  </tbody>\n",
       "</table>\n",
       "</div>"
      ],
      "text/plain": [
       "            Date    Open    High     Low   Close  AdjClose      Volume\n",
       "0   Apr 10, 2019  200.32  199.19  198.60  198.83    198.83   1,100,223\n",
       "1   Apr 09, 2019  200.32  202.85  199.23  199.50    199.50  35,750,400\n",
       "2   Apr 08, 2019  196.42  200.23  196.34  200.10    200.10  25,881,700\n",
       "3   Apr 05, 2019  196.45  197.10  195.93  197.00    197.00  18,526,600\n",
       "4   Apr 04, 2019  194.79  196.37  193.14  195.69    195.69  19,114,300\n",
       "5   Apr 03, 2019  193.25  196.50  193.15  195.35    195.35  23,271,800\n",
       "6   Apr 02, 2019  191.09  194.46  191.05  194.02    194.02  22,765,700\n",
       "7   Apr 01, 2019  191.64  191.68  188.38  191.24    191.24  27,862,000\n",
       "8   Mar 29, 2019  189.83  190.08  188.54  189.95    189.95  23,564,000\n",
       "9   Mar 28, 2019  188.95  189.56  187.53  188.72    188.72  20,780,400\n",
       "10  Mar 27, 2019  188.75  189.76  186.55  188.47    188.47  29,848,400\n",
       "11  Mar 26, 2019  191.66  192.88  184.58  186.79    186.79  49,800,500\n",
       "12  Mar 25, 2019  191.51  191.98  186.60  188.74    188.74  43,845,300\n",
       "13  Mar 22, 2019  195.34  197.69  190.78  191.05    191.05  42,407,700\n",
       "14  Mar 21, 2019  190.02  196.33  189.81  195.09    195.09  51,034,200\n",
       "15  Mar 20, 2019  186.23  189.49  184.73  188.16    188.16  31,035,200\n",
       "16  Mar 19, 2019  188.35  188.99  185.92  186.53    186.53  31,646,400\n",
       "17  Mar 18, 2019  185.80  188.39  185.79  188.02    188.02  26,219,800\n",
       "18  Mar 15, 2019  184.85  187.33  183.74  186.12    186.12  39,042,900\n",
       "19  Mar 14, 2019  183.90  184.10  182.56  183.73    183.73  23,579,500"
      ]
     },
     "execution_count": 124,
     "metadata": {},
     "output_type": "execute_result"
    }
   ],
   "source": [
    "stripCol(df, elem1=\"*\", elem2=\" \")"
   ]
  },
  {
   "cell_type": "code",
   "execution_count": 111,
   "metadata": {},
   "outputs": [
    {
     "data": {
      "text/plain": [
       "['Date', 'Open', 'High', 'Low', 'Close', 'AdjClose', 'Volume']"
      ]
     },
     "execution_count": 111,
     "metadata": {},
     "output_type": "execute_result"
    }
   ],
   "source": [
    "maliste3"
   ]
  },
  {
   "cell_type": "code",
   "execution_count": 117,
   "metadata": {},
   "outputs": [],
   "source": [
    "maliste3=[]\n",
    "for i in list(df.columns):\n",
    "    nomOrig=i\n",
    "    toto=i.replace(\"*\", \"\")\n",
    "    toto=toto.replace(\" \", \"\")\n",
    "    maliste3.append(toto)\n",
    "#     df.columns=maliste3"
   ]
  },
  {
   "cell_type": "code",
   "execution_count": 113,
   "metadata": {
    "collapsed": true
   },
   "outputs": [],
   "source": [
    "df.columns=maliste3"
   ]
  },
  {
   "cell_type": "code",
   "execution_count": 114,
   "metadata": {},
   "outputs": [
    {
     "data": {
      "text/html": [
       "<div>\n",
       "<style>\n",
       "    .dataframe thead tr:only-child th {\n",
       "        text-align: right;\n",
       "    }\n",
       "\n",
       "    .dataframe thead th {\n",
       "        text-align: left;\n",
       "    }\n",
       "\n",
       "    .dataframe tbody tr th {\n",
       "        vertical-align: top;\n",
       "    }\n",
       "</style>\n",
       "<table border=\"1\" class=\"dataframe\">\n",
       "  <thead>\n",
       "    <tr style=\"text-align: right;\">\n",
       "      <th></th>\n",
       "      <th>Date</th>\n",
       "      <th>Open</th>\n",
       "      <th>High</th>\n",
       "      <th>Low</th>\n",
       "      <th>Close</th>\n",
       "      <th>AdjClose</th>\n",
       "      <th>Volume</th>\n",
       "    </tr>\n",
       "  </thead>\n",
       "  <tbody>\n",
       "    <tr>\n",
       "      <th>0</th>\n",
       "      <td>Apr 10, 2019</td>\n",
       "      <td>200.32</td>\n",
       "      <td>199.19</td>\n",
       "      <td>198.60</td>\n",
       "      <td>198.83</td>\n",
       "      <td>198.83</td>\n",
       "      <td>1,100,223</td>\n",
       "    </tr>\n",
       "    <tr>\n",
       "      <th>1</th>\n",
       "      <td>Apr 09, 2019</td>\n",
       "      <td>200.32</td>\n",
       "      <td>202.85</td>\n",
       "      <td>199.23</td>\n",
       "      <td>199.50</td>\n",
       "      <td>199.50</td>\n",
       "      <td>35,750,400</td>\n",
       "    </tr>\n",
       "    <tr>\n",
       "      <th>2</th>\n",
       "      <td>Apr 08, 2019</td>\n",
       "      <td>196.42</td>\n",
       "      <td>200.23</td>\n",
       "      <td>196.34</td>\n",
       "      <td>200.10</td>\n",
       "      <td>200.10</td>\n",
       "      <td>25,881,700</td>\n",
       "    </tr>\n",
       "    <tr>\n",
       "      <th>3</th>\n",
       "      <td>Apr 05, 2019</td>\n",
       "      <td>196.45</td>\n",
       "      <td>197.10</td>\n",
       "      <td>195.93</td>\n",
       "      <td>197.00</td>\n",
       "      <td>197.00</td>\n",
       "      <td>18,526,600</td>\n",
       "    </tr>\n",
       "    <tr>\n",
       "      <th>4</th>\n",
       "      <td>Apr 04, 2019</td>\n",
       "      <td>194.79</td>\n",
       "      <td>196.37</td>\n",
       "      <td>193.14</td>\n",
       "      <td>195.69</td>\n",
       "      <td>195.69</td>\n",
       "      <td>19,114,300</td>\n",
       "    </tr>\n",
       "  </tbody>\n",
       "</table>\n",
       "</div>"
      ],
      "text/plain": [
       "           Date    Open    High     Low   Close  AdjClose      Volume\n",
       "0  Apr 10, 2019  200.32  199.19  198.60  198.83    198.83   1,100,223\n",
       "1  Apr 09, 2019  200.32  202.85  199.23  199.50    199.50  35,750,400\n",
       "2  Apr 08, 2019  196.42  200.23  196.34  200.10    200.10  25,881,700\n",
       "3  Apr 05, 2019  196.45  197.10  195.93  197.00    197.00  18,526,600\n",
       "4  Apr 04, 2019  194.79  196.37  193.14  195.69    195.69  19,114,300"
      ]
     },
     "execution_count": 114,
     "metadata": {},
     "output_type": "execute_result"
    }
   ],
   "source": [
    "df.head()"
   ]
  },
  {
   "cell_type": "code",
   "execution_count": 2,
   "metadata": {},
   "outputs": [],
   "source": [
    "# stripCol(df)"
   ]
  },
  {
   "cell_type": "code",
   "execution_count": 95,
   "metadata": {},
   "outputs": [
    {
     "data": {
      "text/html": [
       "<div>\n",
       "<style>\n",
       "    .dataframe thead tr:only-child th {\n",
       "        text-align: right;\n",
       "    }\n",
       "\n",
       "    .dataframe thead th {\n",
       "        text-align: left;\n",
       "    }\n",
       "\n",
       "    .dataframe tbody tr th {\n",
       "        vertical-align: top;\n",
       "    }\n",
       "</style>\n",
       "<table border=\"1\" class=\"dataframe\">\n",
       "  <thead>\n",
       "    <tr style=\"text-align: right;\">\n",
       "      <th></th>\n",
       "      <th>Date</th>\n",
       "      <th>Open</th>\n",
       "      <th>High</th>\n",
       "      <th>Low</th>\n",
       "      <th>Close*</th>\n",
       "      <th>Adj Close**</th>\n",
       "      <th>Volume</th>\n",
       "    </tr>\n",
       "  </thead>\n",
       "  <tbody>\n",
       "    <tr>\n",
       "      <th>0</th>\n",
       "      <td>Apr 10, 2019</td>\n",
       "      <td>200.32</td>\n",
       "      <td>199.19</td>\n",
       "      <td>198.60</td>\n",
       "      <td>198.83</td>\n",
       "      <td>198.83</td>\n",
       "      <td>1,100,223</td>\n",
       "    </tr>\n",
       "    <tr>\n",
       "      <th>1</th>\n",
       "      <td>Apr 09, 2019</td>\n",
       "      <td>200.32</td>\n",
       "      <td>202.85</td>\n",
       "      <td>199.23</td>\n",
       "      <td>199.50</td>\n",
       "      <td>199.50</td>\n",
       "      <td>35,750,400</td>\n",
       "    </tr>\n",
       "    <tr>\n",
       "      <th>2</th>\n",
       "      <td>Apr 08, 2019</td>\n",
       "      <td>196.42</td>\n",
       "      <td>200.23</td>\n",
       "      <td>196.34</td>\n",
       "      <td>200.10</td>\n",
       "      <td>200.10</td>\n",
       "      <td>25,881,700</td>\n",
       "    </tr>\n",
       "    <tr>\n",
       "      <th>3</th>\n",
       "      <td>Apr 05, 2019</td>\n",
       "      <td>196.45</td>\n",
       "      <td>197.10</td>\n",
       "      <td>195.93</td>\n",
       "      <td>197.00</td>\n",
       "      <td>197.00</td>\n",
       "      <td>18,526,600</td>\n",
       "    </tr>\n",
       "    <tr>\n",
       "      <th>4</th>\n",
       "      <td>Apr 04, 2019</td>\n",
       "      <td>194.79</td>\n",
       "      <td>196.37</td>\n",
       "      <td>193.14</td>\n",
       "      <td>195.69</td>\n",
       "      <td>195.69</td>\n",
       "      <td>19,114,300</td>\n",
       "    </tr>\n",
       "  </tbody>\n",
       "</table>\n",
       "</div>"
      ],
      "text/plain": [
       "           Date    Open    High     Low  Close*  Adj Close**      Volume\n",
       "0  Apr 10, 2019  200.32  199.19  198.60  198.83       198.83   1,100,223\n",
       "1  Apr 09, 2019  200.32  202.85  199.23  199.50       199.50  35,750,400\n",
       "2  Apr 08, 2019  196.42  200.23  196.34  200.10       200.10  25,881,700\n",
       "3  Apr 05, 2019  196.45  197.10  195.93  197.00       197.00  18,526,600\n",
       "4  Apr 04, 2019  194.79  196.37  193.14  195.69       195.69  19,114,300"
      ]
     },
     "execution_count": 95,
     "metadata": {},
     "output_type": "execute_result"
    }
   ],
   "source": [
    "df.head()"
   ]
  },
  {
   "cell_type": "code",
   "execution_count": 91,
   "metadata": {},
   "outputs": [
    {
     "name": "stdout",
     "output_type": "stream",
     "text": [
      "Date Date\n",
      "Open Open\n",
      "High High\n",
      "Low Low\n",
      "Close* Close\n",
      "Adj Close** AdjClose\n",
      "Volume Volume\n"
     ]
    }
   ],
   "source": [
    "maliste3=[]\n",
    "for i in df.columns:\n",
    "    nomOrig=i\n",
    "    toto=i.replace(\"*\", \"\")\n",
    "    toto=toto.replace(\" \", \"\")\n",
    "    maliste3.append(toto)\n",
    "    print(nomOrig,toto)"
   ]
  },
  {
   "cell_type": "code",
   "execution_count": 83,
   "metadata": {},
   "outputs": [
    {
     "data": {
      "text/plain": [
       "['Date', 'Open', 'High', 'Low', 'Close', 'AdjClose', 'Volume']"
      ]
     },
     "execution_count": 83,
     "metadata": {},
     "output_type": "execute_result"
    }
   ],
   "source": [
    "maliste3"
   ]
  },
  {
   "cell_type": "code",
   "execution_count": 77,
   "metadata": {},
   "outputs": [],
   "source": [
    "malist_vec=np.array(maliste2)"
   ]
  },
  {
   "cell_type": "code",
   "execution_count": null,
   "metadata": {},
   "outputs": [],
   "source": [
    "df_toto=pd.read_csv(\"AAPL.csv\")"
   ]
  },
  {
   "cell_type": "code",
   "execution_count": 1,
   "metadata": {},
   "outputs": [],
   "source": [
    "import mesScripts as moi"
   ]
  },
  {
   "cell_type": "code",
   "execution_count": null,
   "metadata": {
    "collapsed": true
   },
   "outputs": [],
   "source": [
    "moi.stripCol(df_toto, elem1=\"*\", elem2=\" \").head(2)"
   ]
  },
  {
   "cell_type": "code",
   "execution_count": null,
   "metadata": {
    "collapsed": true
   },
   "outputs": [],
   "source": [
    "df_toto[[\"Open\", \"Close\"]].head(2)"
   ]
  },
  {
   "cell_type": "code",
   "execution_count": null,
   "metadata": {
    "collapsed": true
   },
   "outputs": [],
   "source": []
  },
  {
   "cell_type": "code",
   "execution_count": null,
   "metadata": {
    "collapsed": true
   },
   "outputs": [],
   "source": []
  }
 ],
 "metadata": {
  "kernelspec": {
   "display_name": "Python 3",
   "language": "python",
   "name": "python3"
  },
  "language_info": {
   "codemirror_mode": {
    "name": "ipython",
    "version": 3
   },
   "file_extension": ".py",
   "mimetype": "text/x-python",
   "name": "python",
   "nbconvert_exporter": "python",
   "pygments_lexer": "ipython3",
   "version": "3.6.6"
  },
  "toc": {
   "base_numbering": 1,
   "nav_menu": {},
   "number_sections": true,
   "sideBar": true,
   "skip_h1_title": false,
   "title_cell": "Table of Contents",
   "title_sidebar": "Contents",
   "toc_cell": false,
   "toc_position": {},
   "toc_section_display": true,
   "toc_window_display": false
  }
 },
 "nbformat": 4,
 "nbformat_minor": 2
}
