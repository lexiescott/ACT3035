{
 "cells": [
  {
   "cell_type": "markdown",
   "metadata": {
    "toc": true
   },
   "source": [
    "<h1><span class=\"tocSkip\"></span></h1>\n",
    "<div class=\"toc\"><ul class=\"toc-item\"><li><span><a href=\"#Inscription-à-SAS-OnDemand-for-Academics\" data-toc-modified-id=\"Inscription-à-SAS-OnDemand-for-Academics-1\"><span class=\"toc-item-num\">1&nbsp;&nbsp;</span>Inscription à SAS OnDemand for Academics</a></span></li><li><span><a href=\"#Ajout-du-cours-ACT3035\" data-toc-modified-id=\"Ajout-du-cours-ACT3035-2\"><span class=\"toc-item-num\">2&nbsp;&nbsp;</span>Ajout du cours ACT3035</a></span></li><li><span><a href=\"#Partage-de-fichiers\" data-toc-modified-id=\"Partage-de-fichiers-3\"><span class=\"toc-item-num\">3&nbsp;&nbsp;</span>Partage de fichiers</a></span></li><li><span><a href=\"#Créer-un-réperoire-personnel\" data-toc-modified-id=\"Créer-un-réperoire-personnel-4\"><span class=\"toc-item-num\">4&nbsp;&nbsp;</span>Créer un réperoire personnel</a></span></li><li><span><a href=\"#Copier-un-script\" data-toc-modified-id=\"Copier-un-script-5\"><span class=\"toc-item-num\">5&nbsp;&nbsp;</span>Copier un script</a></span></li></ul></div>"
   ]
  },
  {
   "cell_type": "markdown",
   "metadata": {},
   "source": [
    "Afin qu'il vous soit facile de reproduire les exemples montrés en classe, que ce soit chez vous ou ailleurs, vous aurez besoin des trois éléments suivants:\n",
    "\n",
    "1. le logiciel SAS  \n",
    "2. du code SAS des exemples\n",
    "3. et des bases de données que j'ai utilisées dans le cours\n",
    "\n"
   ]
  },
  {
   "cell_type": "markdown",
   "metadata": {},
   "source": [
    "# Inscription à SAS OnDemand for Academics"
   ]
  },
  {
   "cell_type": "markdown",
   "metadata": {},
   "source": [
    "Comme il est plus important de comprendre la logique du code que de réécrire ce que j'explique au laboratoire, je veux partager avec vous tous les codes et les bases de données que j'utilise. Pour ce faire, je vous invite à vous créer un compte sur [SAS OnDemand for Academics](https://odamid.oda.sas.com/SASODARegistration/) avant le début du cours. Vous pouvez visionner le tutoriel ci-dessous qui vous montre comment vous inscrire:\n"
   ]
  },
  {
   "cell_type": "markdown",
   "metadata": {},
   "source": [
    "<div align=\"center\"><iframe width=\"420\" height=\"315\" src=\"http://players.brightcove.net/1872491364001/default_default/index.html?videoId=3794695462001\" frameborder=\"0\" allowfullscreen></iframe></div>\n"
   ]
  },
  {
   "cell_type": "markdown",
   "metadata": {},
   "source": [
    "# Ajout du cours ACT3035\n",
    "Après avoir créé votre compte;\n",
    "\n",
    "1. Connectez-vous à nouveau à [SAS oda](https://odamid.oda.sas.com/SASODAControlCenter/enroll.html?enroll=4ea46939-a35e-4b62-af3e-19fd67517a2c) \n",
    "2. Saisez le code **4ea46939-a35e-4b62-af3e-19fd67517a2c** qui vous permet "
   ]
  },
  {
   "cell_type": "markdown",
   "metadata": {},
   "source": [
    "![ajout du cours ACT3035](https://s3.amazonaws.com/noureddine/ajout_act3035.png)"
   ]
  },
  {
   "cell_type": "markdown",
   "metadata": {},
   "source": [
    "Si cela a bien fonctionné, vous verrez le cours ACT3035 dans la section **My enrollments** tel qu'illustré ci-dessous."
   ]
  },
  {
   "cell_type": "markdown",
   "metadata": {},
   "source": [
    "![inscription à SAS dans le cadre du cours ACT3035](https://s3.amazonaws.com/noureddine/inscription.png)"
   ]
  },
  {
   "cell_type": "markdown",
   "metadata": {},
   "source": [
    "Pour vous reconnecter au cours ultérieurement, je vous recommande de garder [ce lien](https://odamid.oda.sas.com/) dans les favoris de votre navigateur préféré (Chrome, Firefox, Safari ou Opera)."
   ]
  },
  {
   "cell_type": "markdown",
   "metadata": {},
   "source": [
    "<p>Vous pouvez accéder à votre session de SAS Studio en clinquant sur <span font-weight:bold style=\"color: #FF00FF\">SAS Studio</span></p>\n",
    "![inscription à SAS dans le cadre du cours ACT3035](https://s3.amazonaws.com/noureddine/inscription_acces.png)"
   ]
  },
  {
   "cell_type": "markdown",
   "metadata": {},
   "source": [
    "Vous pouvez accéder au contenu du cours comme suit:\n",
    "1. Ouvrez un nouveau programme SAS\n",
    "2. Saisissez le code suivant;\n",
    "```SAS\n",
    "LIBNAME donnees \"~/my_courses/nmeraihi1\";\n",
    "```\n",
    "3. Exécuter le code en cliqunt sur le bonhomme qui court\n",
    "\n",
    "![Accès au cours ACT3035 dans SAS Studio](https://s3.amazonaws.com/noureddine/acces_au_cours.png)\n",
    "\n"
   ]
  },
  {
   "cell_type": "markdown",
   "metadata": {},
   "source": [
    "# Partage de fichiers\n",
    "\n",
    "Bien évidemment, vous avez accès au contenu sous `nmeraihi1` (en <span font-weight:bold style=\"color: #FFA500\">orange</span> sur la figure ci-dessus) en **lecture seulement**. C'est ici que vous retrouverez tous les documents que je partagerais avec vous.\n",
    "\n"
   ]
  },
  {
   "cell_type": "markdown",
   "metadata": {},
   "source": [
    "# Créer un réperoire personnel"
   ]
  },
  {
   "cell_type": "markdown",
   "metadata": {},
   "source": [
    "Toutefois, vous pouvez créer vos propres, fichiers et données dans des répertoires qui vous appartiennent auxquels vous aurez accès en en mode **lecture** et **écriture**.\n",
    "\n"
   ]
  },
  {
   "cell_type": "markdown",
   "metadata": {},
   "source": [
    "Vous pouvez vous mettre sur **`Files`**"
   ]
  },
  {
   "cell_type": "markdown",
   "metadata": {},
   "source": [
    "![files in SAS](https://s3.amazonaws.com/noureddine/files.png)"
   ]
  },
  {
   "cell_type": "markdown",
   "metadata": {},
   "source": [
    "Et ensuite ajouter un nouveau script SAS ou un tout nouveau répertoire personnel auquel vous aurez accès en **lecture** et **écriture**"
   ]
  },
  {
   "cell_type": "markdown",
   "metadata": {},
   "source": [
    "![creer nouveau](https://s3.amazonaws.com/noureddine/creer_script.png)"
   ]
  },
  {
   "cell_type": "markdown",
   "metadata": {},
   "source": [
    "# Copier un script\n",
    "Vous pouvez copier un script SAS ou données ou autre vers votre répertoire personnel en clic droit sur le fichier en question:\n",
    "\n",
    "<img src=\"https://s3.amazonaws.com/noureddine/copie_fichier.png\" alt=\"Drawing\" style=\"width: 200px;\"/>"
   ]
  },
  {
   "cell_type": "markdown",
   "metadata": {},
   "source": [
    "Et le copier vers le répertoire désiré\n",
    "\n",
    "\n",
    "<img src=\"https://s3.amazonaws.com/noureddine/vers_repertoire.png\" alt=\"Drawing\" style=\"width: 200px;\"/>"
   ]
  },
  {
   "cell_type": "markdown",
   "metadata": {},
   "source": [
    "Vous avez maintenant accès à tout le contenu du cours ACT3035. Je mettrais à jour le matériel nécessaire au fur et à mesure qu'on avance dans le cours."
   ]
  }
 ],
 "metadata": {
  "kernelspec": {
   "display_name": "Python 3",
   "language": "python",
   "name": "python3"
  },
  "language_info": {
   "codemirror_mode": {
    "name": "ipython",
    "version": 3
   },
   "file_extension": ".py",
   "mimetype": "text/x-python",
   "name": "python",
   "nbconvert_exporter": "python",
   "pygments_lexer": "ipython3",
   "version": "3.6.6"
  },
  "latex_envs": {
   "LaTeX_envs_menu_present": true,
   "autoclose": false,
   "autocomplete": true,
   "bibliofile": "biblio.bib",
   "cite_by": "apalike",
   "current_citInitial": 1,
   "eqLabelWithNumbers": true,
   "eqNumInitial": 1,
   "hotkeys": {
    "equation": "Ctrl-E",
    "itemize": "Ctrl-I"
   },
   "labels_anchors": false,
   "latex_user_defs": false,
   "report_style_numbering": false,
   "user_envs_cfg": false
  },
  "toc": {
   "base_numbering": 1,
   "nav_menu": {},
   "number_sections": true,
   "sideBar": true,
   "skip_h1_title": false,
   "title_cell": "",
   "title_sidebar": "Contents",
   "toc_cell": true,
   "toc_position": {
    "height": "calc(100% - 180px)",
    "left": "10px",
    "top": "150px",
    "width": "256px"
   },
   "toc_section_display": true,
   "toc_window_display": true
  }
 },
 "nbformat": 4,
 "nbformat_minor": 2
}
