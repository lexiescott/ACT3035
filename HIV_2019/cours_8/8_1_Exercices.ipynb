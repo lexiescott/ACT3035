{
 "cells": [
  {
   "cell_type": "markdown",
   "metadata": {},
   "source": [
    "# Exercice 1\n",
    "Dans [SAS studio](https://odamid.oda.sas.com/SASODAControlCenter), sous le répertoire `/nmeraihi1/lessons/data/` vous trouverez le jeux de données `blood.txt`.\n",
    "Ecrivez un code SAS qui vous permet de lire ce jeux de données.\n",
    "\n",
    "# Exercice 2\n",
    "Avec l'option _import data_ dans SAS Studio, téléchargez le jeux de données `blood.txt` sur votre ordinateur local. Ensuite, écrivez un code SAS qui vous permet de lire ce jeux de données mais cette fois en vous connectant sur SAS via [Citrix](https://servicesinformatiques.uqam.ca/services/Laboratoire%20virtuel)\n",
    "\n",
    "# Exercice 3\n",
    "Avec l'option _import data_ dans SAS Studio, téléchargez le jeux de données `blood.txt` sur l'ordinateur du laboratoire informatique. Ensuite, écrivez un code SAS qui vous permet de lire ce jeux de données."
   ]
  },
  {
   "cell_type": "markdown",
   "metadata": {},
   "source": [
    "### d'autres numéros suivront.."
   ]
  }
 ],
 "metadata": {
  "kernelspec": {
   "display_name": "SAS",
   "language": "sas",
   "name": "sas"
  },
  "language_info": {
   "codemirror_mode": "sas",
   "file_extension": ".sas",
   "mimetype": "text/x-sas",
   "name": "sas"
  }
 },
 "nbformat": 4,
 "nbformat_minor": 2
}
